{
  "nbformat": 4,
  "nbformat_minor": 0,
  "metadata": {
    "colab": {
      "provenance": [],
      "machine_shape": "hm",
      "authorship_tag": "ABX9TyObbIBU3QUFlLn+J1T72aAL",
      "include_colab_link": true
    },
    "kernelspec": {
      "name": "python3",
      "display_name": "Python 3"
    },
    "language_info": {
      "name": "python"
    },
    "gpuClass": "standard"
  },
  "cells": [
    {
      "cell_type": "markdown",
      "metadata": {
        "id": "view-in-github",
        "colab_type": "text"
      },
      "source": [
        "<a href=\"https://colab.research.google.com/github/ericbanzuzi/Thesis-DL-LC/blob/main/notebooks/model_architectures.ipynb\" target=\"_parent\"><img src=\"https://colab.research.google.com/assets/colab-badge.svg\" alt=\"Open In Colab\"/></a>"
      ]
    },
    {
      "cell_type": "code",
      "execution_count": 1,
      "metadata": {
        "id": "CaRAGkQRGGn2",
        "colab": {
          "base_uri": "https://localhost:8080/"
        },
        "outputId": "2fb05ffd-7747-49ea-f9a4-e5724b3c25de"
      },
      "outputs": [
        {
          "output_type": "stream",
          "name": "stdout",
          "text": [
            "Mounted at /content/drive\n"
          ]
        }
      ],
      "source": [
        "from google.colab import drive\n",
        "from pathlib import Path\n",
        "\n",
        "drive.mount('/content/drive', force_remount=True)\n",
        "base = Path('/content/drive/MyDrive/thesis')  # working directory "
      ]
    },
    {
      "cell_type": "markdown",
      "source": [
        "Get the git repo to colab through a zip file to get faster performance"
      ],
      "metadata": {
        "id": "1mOLcuJaxfF1"
      }
    },
    {
      "cell_type": "code",
      "source": [
        "zip_path = base/'Thesis-DL-LC-main.zip'\n",
        "!cp '{zip_path}' .\n",
        "!unzip -q Thesis-DL-LC-main.zip\n",
        "!rm Thesis-DL-LC-main.zip"
      ],
      "metadata": {
        "id": "LIZavPsTxSp2"
      },
      "execution_count": 2,
      "outputs": []
    },
    {
      "cell_type": "code",
      "source": [
        "%cd '/content/Thesis-DL-LC-main'"
      ],
      "metadata": {
        "id": "V9CILG6vxWjf",
        "colab": {
          "base_uri": "https://localhost:8080/"
        },
        "outputId": "7cfd85f4-b731-44e8-ec56-f03706285db6"
      },
      "execution_count": 3,
      "outputs": [
        {
          "output_type": "stream",
          "name": "stdout",
          "text": [
            "/content/Thesis-DL-LC-main\n"
          ]
        }
      ]
    },
    {
      "cell_type": "code",
      "source": [
        "# imports\n",
        "!pip install torchinfo\n",
        "from torchinfo import summary\n",
        "from models.models import R2Plus1D, MC4, ViViT"
      ],
      "metadata": {
        "id": "7nNI8NljxjjJ",
        "colab": {
          "base_uri": "https://localhost:8080/"
        },
        "outputId": "046bbe83-8b47-481a-c3e2-b2c487137cfe"
      },
      "execution_count": 4,
      "outputs": [
        {
          "output_type": "stream",
          "name": "stdout",
          "text": [
            "Looking in indexes: https://pypi.org/simple, https://us-python.pkg.dev/colab-wheels/public/simple/\n",
            "Collecting torchinfo\n",
            "  Downloading torchinfo-1.7.2-py3-none-any.whl (22 kB)\n",
            "Installing collected packages: torchinfo\n",
            "Successfully installed torchinfo-1.7.2\n"
          ]
        }
      ]
    },
    {
      "cell_type": "code",
      "source": [
        "# This project's video inputs\n",
        "BATCH = 16\n",
        "HEIGHT = 112\n",
        "WIDTH = 112\n",
        "FRAMES = 32"
      ],
      "metadata": {
        "id": "3BEl9BJWyj50"
      },
      "execution_count": 5,
      "outputs": []
    },
    {
      "cell_type": "markdown",
      "source": [
        "## **R2Plus1D:**"
      ],
      "metadata": {
        "id": "Qsayq3Klx4u6"
      }
    },
    {
      "cell_type": "code",
      "source": [
        "r2plus1d = R2Plus1D(num_classes=3)\n",
        "summary(model=r2plus1d,\n",
        "        input_size=(BATCH, 3, FRAMES, HEIGHT, WIDTH), # (batch_size, color_channels, frames, height, width)\n",
        "        col_names=[\"input_size\", \"output_size\", \"num_params\", \"trainable\"],\n",
        "        col_width=20,\n",
        "        row_settings=[\"var_names\"]\n",
        ")"
      ],
      "metadata": {
        "id": "L7qvspajx_ng",
        "colab": {
          "base_uri": "https://localhost:8080/"
        },
        "outputId": "7082f778-3ba8-4557-e626-c232d63b341b"
      },
      "execution_count": 6,
      "outputs": [
        {
          "output_type": "stream",
          "name": "stderr",
          "text": [
            "/usr/local/lib/python3.10/dist-packages/torchinfo/torchinfo.py:477: UserWarning: TypedStorage is deprecated. It will be removed in the future and UntypedStorage will be the only storage class. This should only matter to you if you are using storages directly.  To access UntypedStorage directly, use tensor.untyped_storage() instead of tensor.storage()\n",
            "  action_fn=lambda data: sys.getsizeof(data.storage()),\n",
            "/usr/local/lib/python3.10/dist-packages/torch/storage.py:665: UserWarning: TypedStorage is deprecated. It will be removed in the future and UntypedStorage will be the only storage class. This should only matter to you if you are using storages directly.  To access UntypedStorage directly, use tensor.untyped_storage() instead of tensor.storage()\n",
            "  return super().__sizeof__() + self.nbytes()\n"
          ]
        },
        {
          "output_type": "execute_result",
          "data": {
            "text/plain": [
              "=============================================================================================================================\n",
              "Layer (type (var_name))                       Input Shape          Output Shape         Param #              Trainable\n",
              "=============================================================================================================================\n",
              "R2Plus1D (R2Plus1D)                           [16, 3, 32, 112, 112] [16, 3]              --                   True\n",
              "├─Conv2Plus1DFirst (conv1)                    [16, 3, 32, 112, 112] [16, 64, 32, 56, 56] --                   True\n",
              "│    └─Conv3d (0)                             [16, 3, 32, 112, 112] [16, 45, 32, 56, 56] 6,660                True\n",
              "│    └─BatchNorm3d (1)                        [16, 45, 32, 56, 56] [16, 45, 32, 56, 56] 90                   True\n",
              "│    └─ReLU (2)                               [16, 45, 32, 56, 56] [16, 45, 32, 56, 56] --                   --\n",
              "│    └─Conv3d (3)                             [16, 45, 32, 56, 56] [16, 64, 32, 56, 56] 8,704                True\n",
              "│    └─BatchNorm3d (4)                        [16, 64, 32, 56, 56] [16, 64, 32, 56, 56] 128                  True\n",
              "├─ReLU (relu1)                                [16, 64, 32, 56, 56] [16, 64, 32, 56, 56] --                   --\n",
              "├─Conv2Plus1DResidualBlock (conv2_1)          [16, 64, 32, 56, 56] [16, 64, 32, 56, 56] --                   True\n",
              "│    └─Sequential (seq)                       [16, 64, 32, 56, 56] [16, 64, 32, 56, 56] --                   True\n",
              "│    │    └─Conv2Plus1D (0)                   [16, 64, 32, 56, 56] [16, 64, 32, 56, 56] 111,088              True\n",
              "│    │    └─BatchNorm3d (1)                   [16, 64, 32, 56, 56] [16, 64, 32, 56, 56] 128                  True\n",
              "│    │    └─ReLU (2)                          [16, 64, 32, 56, 56] [16, 64, 32, 56, 56] --                   --\n",
              "│    │    └─Conv2Plus1D (3)                   [16, 64, 32, 56, 56] [16, 64, 32, 56, 56] 111,088              True\n",
              "│    │    └─BatchNorm3d (4)                   [16, 64, 32, 56, 56] [16, 64, 32, 56, 56] 128                  True\n",
              "├─ReLU (relu2_1)                              [16, 64, 32, 56, 56] [16, 64, 32, 56, 56] --                   --\n",
              "├─Conv2Plus1DResidualBlock (conv2_2)          [16, 64, 32, 56, 56] [16, 64, 32, 56, 56] --                   True\n",
              "│    └─Sequential (seq)                       [16, 64, 32, 56, 56] [16, 64, 32, 56, 56] --                   True\n",
              "│    │    └─Conv2Plus1D (0)                   [16, 64, 32, 56, 56] [16, 64, 32, 56, 56] 111,088              True\n",
              "│    │    └─BatchNorm3d (1)                   [16, 64, 32, 56, 56] [16, 64, 32, 56, 56] 128                  True\n",
              "│    │    └─ReLU (2)                          [16, 64, 32, 56, 56] [16, 64, 32, 56, 56] --                   --\n",
              "│    │    └─Conv2Plus1D (3)                   [16, 64, 32, 56, 56] [16, 64, 32, 56, 56] 111,088              True\n",
              "│    │    └─BatchNorm3d (4)                   [16, 64, 32, 56, 56] [16, 64, 32, 56, 56] 128                  True\n",
              "├─ReLU (relu2_2)                              [16, 64, 32, 56, 56] [16, 64, 32, 56, 56] --                   --\n",
              "├─Conv2Plus1DResidualBlock (conv3_1)          [16, 64, 32, 56, 56] [16, 128, 16, 28, 28] --                   True\n",
              "│    └─Sequential (seq)                       [16, 64, 32, 56, 56] [16, 128, 16, 28, 28] --                   True\n",
              "│    │    └─Conv2Plus1D (0)                   [16, 64, 32, 56, 56] [16, 128, 16, 28, 28] 221,618              True\n",
              "│    │    └─BatchNorm3d (1)                   [16, 128, 16, 28, 28] [16, 128, 16, 28, 28] 256                  True\n",
              "│    │    └─ReLU (2)                          [16, 128, 16, 28, 28] [16, 128, 16, 28, 28] --                   --\n",
              "│    │    └─Conv2Plus1D (3)                   [16, 128, 16, 28, 28] [16, 128, 16, 28, 28] 443,360              True\n",
              "│    │    └─BatchNorm3d (4)                   [16, 128, 16, 28, 28] [16, 128, 16, 28, 28] 256                  True\n",
              "│    └─Sequential (downsample)                [16, 64, 32, 56, 56] [16, 128, 16, 28, 28] --                   True\n",
              "│    │    └─Conv3d (0)                        [16, 64, 32, 56, 56] [16, 128, 16, 28, 28] 8,320                True\n",
              "│    │    └─BatchNorm3d (1)                   [16, 128, 16, 28, 28] [16, 128, 16, 28, 28] 256                  True\n",
              "├─ReLU (relu3_1)                              [16, 128, 16, 28, 28] [16, 128, 16, 28, 28] --                   --\n",
              "├─Conv2Plus1DResidualBlock (conv3_2)          [16, 128, 16, 28, 28] [16, 128, 16, 28, 28] --                   True\n",
              "│    └─Sequential (seq)                       [16, 128, 16, 28, 28] [16, 128, 16, 28, 28] --                   True\n",
              "│    │    └─Conv2Plus1D (0)                   [16, 128, 16, 28, 28] [16, 128, 16, 28, 28] 443,360              True\n",
              "│    │    └─BatchNorm3d (1)                   [16, 128, 16, 28, 28] [16, 128, 16, 28, 28] 256                  True\n",
              "│    │    └─ReLU (2)                          [16, 128, 16, 28, 28] [16, 128, 16, 28, 28] --                   --\n",
              "│    │    └─Conv2Plus1D (3)                   [16, 128, 16, 28, 28] [16, 128, 16, 28, 28] 443,360              True\n",
              "│    │    └─BatchNorm3d (4)                   [16, 128, 16, 28, 28] [16, 128, 16, 28, 28] 256                  True\n",
              "├─ReLU (relu3_2)                              [16, 128, 16, 28, 28] [16, 128, 16, 28, 28] --                   --\n",
              "├─Conv2Plus1DResidualBlock (conv4_1)          [16, 128, 16, 28, 28] [16, 256, 8, 14, 14] --                   True\n",
              "│    └─Sequential (seq)                       [16, 128, 16, 28, 28] [16, 256, 8, 14, 14] --                   True\n",
              "│    │    └─Conv2Plus1D (0)                   [16, 128, 16, 28, 28] [16, 256, 8, 14, 14] 884,836              True\n",
              "│    │    └─BatchNorm3d (1)                   [16, 256, 8, 14, 14] [16, 256, 8, 14, 14] 512                  True\n",
              "│    │    └─ReLU (2)                          [16, 256, 8, 14, 14] [16, 256, 8, 14, 14] --                   --\n",
              "│    │    └─Conv2Plus1D (3)                   [16, 256, 8, 14, 14] [16, 256, 8, 14, 14] 1,771,456            True\n",
              "│    │    └─BatchNorm3d (4)                   [16, 256, 8, 14, 14] [16, 256, 8, 14, 14] 512                  True\n",
              "│    └─Sequential (downsample)                [16, 128, 16, 28, 28] [16, 256, 8, 14, 14] --                   True\n",
              "│    │    └─Conv3d (0)                        [16, 128, 16, 28, 28] [16, 256, 8, 14, 14] 33,024               True\n",
              "│    │    └─BatchNorm3d (1)                   [16, 256, 8, 14, 14] [16, 256, 8, 14, 14] 512                  True\n",
              "├─ReLU (relu4_1)                              [16, 256, 8, 14, 14] [16, 256, 8, 14, 14] --                   --\n",
              "├─Conv2Plus1DResidualBlock (conv4_2)          [16, 256, 8, 14, 14] [16, 256, 8, 14, 14] --                   True\n",
              "│    └─Sequential (seq)                       [16, 256, 8, 14, 14] [16, 256, 8, 14, 14] --                   True\n",
              "│    │    └─Conv2Plus1D (0)                   [16, 256, 8, 14, 14] [16, 256, 8, 14, 14] 1,771,456            True\n",
              "│    │    └─BatchNorm3d (1)                   [16, 256, 8, 14, 14] [16, 256, 8, 14, 14] 512                  True\n",
              "│    │    └─ReLU (2)                          [16, 256, 8, 14, 14] [16, 256, 8, 14, 14] --                   --\n",
              "│    │    └─Conv2Plus1D (3)                   [16, 256, 8, 14, 14] [16, 256, 8, 14, 14] 1,771,456            True\n",
              "│    │    └─BatchNorm3d (4)                   [16, 256, 8, 14, 14] [16, 256, 8, 14, 14] 512                  True\n",
              "├─ReLU (relu4_2)                              [16, 256, 8, 14, 14] [16, 256, 8, 14, 14] --                   --\n",
              "├─Conv2Plus1DResidualBlock (conv5_1)          [16, 256, 8, 14, 14] [16, 512, 4, 7, 7]   --                   True\n",
              "│    └─Sequential (seq)                       [16, 256, 8, 14, 14] [16, 512, 4, 7, 7]   --                   True\n",
              "│    │    └─Conv2Plus1D (0)                   [16, 256, 8, 14, 14] [16, 512, 4, 7, 7]   3,539,915            True\n",
              "│    │    └─BatchNorm3d (1)                   [16, 512, 4, 7, 7]   [16, 512, 4, 7, 7]   1,024                True\n",
              "│    │    └─ReLU (2)                          [16, 512, 4, 7, 7]   [16, 512, 4, 7, 7]   --                   --\n",
              "│    │    └─Conv2Plus1D (3)                   [16, 512, 4, 7, 7]   [16, 512, 4, 7, 7]   7,081,856            True\n",
              "│    │    └─BatchNorm3d (4)                   [16, 512, 4, 7, 7]   [16, 512, 4, 7, 7]   1,024                True\n",
              "│    └─Sequential (downsample)                [16, 256, 8, 14, 14] [16, 512, 4, 7, 7]   --                   True\n",
              "│    │    └─Conv3d (0)                        [16, 256, 8, 14, 14] [16, 512, 4, 7, 7]   131,584              True\n",
              "│    │    └─BatchNorm3d (1)                   [16, 512, 4, 7, 7]   [16, 512, 4, 7, 7]   1,024                True\n",
              "├─ReLU (relu5_1)                              [16, 512, 4, 7, 7]   [16, 512, 4, 7, 7]   --                   --\n",
              "├─Conv2Plus1DResidualBlock (conv5_2)          [16, 512, 4, 7, 7]   [16, 512, 4, 7, 7]   --                   True\n",
              "│    └─Sequential (seq)                       [16, 512, 4, 7, 7]   [16, 512, 4, 7, 7]   --                   True\n",
              "│    │    └─Conv2Plus1D (0)                   [16, 512, 4, 7, 7]   [16, 512, 4, 7, 7]   7,081,856            True\n",
              "│    │    └─BatchNorm3d (1)                   [16, 512, 4, 7, 7]   [16, 512, 4, 7, 7]   1,024                True\n",
              "│    │    └─ReLU (2)                          [16, 512, 4, 7, 7]   [16, 512, 4, 7, 7]   --                   --\n",
              "│    │    └─Conv2Plus1D (3)                   [16, 512, 4, 7, 7]   [16, 512, 4, 7, 7]   7,081,856            True\n",
              "│    │    └─BatchNorm3d (4)                   [16, 512, 4, 7, 7]   [16, 512, 4, 7, 7]   1,024                True\n",
              "├─ReLU (relu5_2)                              [16, 512, 4, 7, 7]   [16, 512, 4, 7, 7]   --                   --\n",
              "├─AdaptiveAvgPool3d (avgpool)                 [16, 512, 4, 7, 7]   [16, 512, 1, 1, 1]   --                   --\n",
              "├─Linear (fc)                                 [16, 512]            [16, 3]              1,539                True\n",
              "=============================================================================================================================\n",
              "Total params: 33,180,258\n",
              "Trainable params: 33,180,258\n",
              "Non-trainable params: 0\n",
              "Total mult-adds (T): 1.33\n",
              "=============================================================================================================================\n",
              "Input size (MB): 77.07\n",
              "Forward/backward pass size (MB): 32452.33\n",
              "Params size (MB): 132.72\n",
              "Estimated Total Size (MB): 32662.12\n",
              "============================================================================================================================="
            ]
          },
          "metadata": {},
          "execution_count": 6
        }
      ]
    },
    {
      "cell_type": "markdown",
      "source": [
        "## **MC4:**"
      ],
      "metadata": {
        "id": "U8y7ZZ_yzPXN"
      }
    },
    {
      "cell_type": "code",
      "source": [
        "mc4 = MC4(num_classes=3)\n",
        "summary(model=mc4,\n",
        "        input_size=(BATCH, 3, FRAMES, HEIGHT, WIDTH), # (batch_size, color_channels, frames, height, width)\n",
        "        col_names=[\"input_size\", \"output_size\", \"num_params\", \"trainable\"],\n",
        "        col_width=20,\n",
        "        row_settings=[\"var_names\"]\n",
        ")"
      ],
      "metadata": {
        "id": "J8H6Bn4-zWFd",
        "colab": {
          "base_uri": "https://localhost:8080/"
        },
        "outputId": "f00f845d-a722-4383-fe03-d3fcfb98c4d8"
      },
      "execution_count": 7,
      "outputs": [
        {
          "output_type": "execute_result",
          "data": {
            "text/plain": [
              "========================================================================================================================\n",
              "Layer (type (var_name))                  Input Shape          Output Shape         Param #              Trainable\n",
              "========================================================================================================================\n",
              "MC4 (MC4)                                [16, 3, 32, 112, 112] [16, 3]              --                   True\n",
              "├─Sequential (conv1)                     [16, 3, 32, 112, 112] [16, 64, 32, 56, 56] --                   True\n",
              "│    └─Conv3d (0)                        [16, 3, 32, 112, 112] [16, 64, 32, 56, 56] 28,288               True\n",
              "│    └─BatchNorm3d (1)                   [16, 64, 32, 56, 56] [16, 64, 32, 56, 56] 128                  True\n",
              "├─ReLU (relu1)                           [16, 64, 32, 56, 56] [16, 64, 32, 56, 56] --                   --\n",
              "├─Conv3DResidualBlock (conv2_1)          [16, 64, 32, 56, 56] [16, 64, 32, 56, 56] --                   True\n",
              "│    └─Sequential (seq)                  [16, 64, 32, 56, 56] [16, 64, 32, 56, 56] --                   True\n",
              "│    │    └─Conv3d (0)                   [16, 64, 32, 56, 56] [16, 64, 32, 56, 56] 110,656              True\n",
              "│    │    └─BatchNorm3d (1)              [16, 64, 32, 56, 56] [16, 64, 32, 56, 56] 128                  True\n",
              "│    │    └─ReLU (2)                     [16, 64, 32, 56, 56] [16, 64, 32, 56, 56] --                   --\n",
              "│    │    └─Conv3d (3)                   [16, 64, 32, 56, 56] [16, 64, 32, 56, 56] 110,656              True\n",
              "│    │    └─BatchNorm3d (4)              [16, 64, 32, 56, 56] [16, 64, 32, 56, 56] 128                  True\n",
              "├─ReLU (relu2_1)                         [16, 64, 32, 56, 56] [16, 64, 32, 56, 56] --                   --\n",
              "├─Conv3DResidualBlock (conv2_2)          [16, 64, 32, 56, 56] [16, 64, 32, 56, 56] --                   True\n",
              "│    └─Sequential (seq)                  [16, 64, 32, 56, 56] [16, 64, 32, 56, 56] --                   True\n",
              "│    │    └─Conv3d (0)                   [16, 64, 32, 56, 56] [16, 64, 32, 56, 56] 110,656              True\n",
              "│    │    └─BatchNorm3d (1)              [16, 64, 32, 56, 56] [16, 64, 32, 56, 56] 128                  True\n",
              "│    │    └─ReLU (2)                     [16, 64, 32, 56, 56] [16, 64, 32, 56, 56] --                   --\n",
              "│    │    └─Conv3d (3)                   [16, 64, 32, 56, 56] [16, 64, 32, 56, 56] 110,656              True\n",
              "│    │    └─BatchNorm3d (4)              [16, 64, 32, 56, 56] [16, 64, 32, 56, 56] 128                  True\n",
              "├─ReLU (relu2_2)                         [16, 64, 32, 56, 56] [16, 64, 32, 56, 56] --                   --\n",
              "├─Conv3DResidualBlock (conv3_1)          [16, 64, 32, 56, 56] [16, 128, 16, 28, 28] --                   True\n",
              "│    └─Sequential (seq)                  [16, 64, 32, 56, 56] [16, 128, 16, 28, 28] --                   True\n",
              "│    │    └─Conv3d (0)                   [16, 64, 32, 56, 56] [16, 128, 16, 28, 28] 221,312              True\n",
              "│    │    └─BatchNorm3d (1)              [16, 128, 16, 28, 28] [16, 128, 16, 28, 28] 256                  True\n",
              "│    │    └─ReLU (2)                     [16, 128, 16, 28, 28] [16, 128, 16, 28, 28] --                   --\n",
              "│    │    └─Conv3d (3)                   [16, 128, 16, 28, 28] [16, 128, 16, 28, 28] 442,496              True\n",
              "│    │    └─BatchNorm3d (4)              [16, 128, 16, 28, 28] [16, 128, 16, 28, 28] 256                  True\n",
              "│    └─Sequential (downsample)           [16, 64, 32, 56, 56] [16, 128, 16, 28, 28] --                   True\n",
              "│    │    └─Conv3d (0)                   [16, 64, 32, 56, 56] [16, 128, 16, 28, 28] 8,320                True\n",
              "│    │    └─BatchNorm3d (1)              [16, 128, 16, 28, 28] [16, 128, 16, 28, 28] 256                  True\n",
              "├─ReLU (relu3_1)                         [16, 128, 16, 28, 28] [16, 128, 16, 28, 28] --                   --\n",
              "├─Conv3DResidualBlock (conv3_2)          [16, 128, 16, 28, 28] [16, 128, 16, 28, 28] --                   True\n",
              "│    └─Sequential (seq)                  [16, 128, 16, 28, 28] [16, 128, 16, 28, 28] --                   True\n",
              "│    │    └─Conv3d (0)                   [16, 128, 16, 28, 28] [16, 128, 16, 28, 28] 442,496              True\n",
              "│    │    └─BatchNorm3d (1)              [16, 128, 16, 28, 28] [16, 128, 16, 28, 28] 256                  True\n",
              "│    │    └─ReLU (2)                     [16, 128, 16, 28, 28] [16, 128, 16, 28, 28] --                   --\n",
              "│    │    └─Conv3d (3)                   [16, 128, 16, 28, 28] [16, 128, 16, 28, 28] 442,496              True\n",
              "│    │    └─BatchNorm3d (4)              [16, 128, 16, 28, 28] [16, 128, 16, 28, 28] 256                  True\n",
              "├─ReLU (relu3_2)                         [16, 128, 16, 28, 28] [16, 128, 16, 28, 28] --                   --\n",
              "├─Conv2DResidualBlock (conv4_1)          [16, 128, 16, 28, 28] [16, 256, 16, 14, 14] --                   True\n",
              "│    └─Sequential (seq)                  [16, 128, 16, 28, 28] [16, 256, 16, 14, 14] --                   True\n",
              "│    │    └─Conv3d (0)                   [16, 128, 16, 28, 28] [16, 256, 16, 14, 14] 295,168              True\n",
              "│    │    └─BatchNorm3d (1)              [16, 256, 16, 14, 14] [16, 256, 16, 14, 14] 512                  True\n",
              "│    │    └─ReLU (2)                     [16, 256, 16, 14, 14] [16, 256, 16, 14, 14] --                   --\n",
              "│    │    └─Conv3d (3)                   [16, 256, 16, 14, 14] [16, 256, 16, 14, 14] 590,080              True\n",
              "│    │    └─BatchNorm3d (4)              [16, 256, 16, 14, 14] [16, 256, 16, 14, 14] 512                  True\n",
              "│    └─Sequential (downsample)           [16, 128, 16, 28, 28] [16, 256, 16, 14, 14] --                   True\n",
              "│    │    └─Conv3d (0)                   [16, 128, 16, 28, 28] [16, 256, 16, 14, 14] 33,024               True\n",
              "│    │    └─BatchNorm3d (1)              [16, 256, 16, 14, 14] [16, 256, 16, 14, 14] 512                  True\n",
              "├─ReLU (relu4_1)                         [16, 256, 16, 14, 14] [16, 256, 16, 14, 14] --                   --\n",
              "├─Conv2DResidualBlock (conv4_2)          [16, 256, 16, 14, 14] [16, 256, 16, 14, 14] --                   True\n",
              "│    └─Sequential (seq)                  [16, 256, 16, 14, 14] [16, 256, 16, 14, 14] --                   True\n",
              "│    │    └─Conv3d (0)                   [16, 256, 16, 14, 14] [16, 256, 16, 14, 14] 590,080              True\n",
              "│    │    └─BatchNorm3d (1)              [16, 256, 16, 14, 14] [16, 256, 16, 14, 14] 512                  True\n",
              "│    │    └─ReLU (2)                     [16, 256, 16, 14, 14] [16, 256, 16, 14, 14] --                   --\n",
              "│    │    └─Conv3d (3)                   [16, 256, 16, 14, 14] [16, 256, 16, 14, 14] 590,080              True\n",
              "│    │    └─BatchNorm3d (4)              [16, 256, 16, 14, 14] [16, 256, 16, 14, 14] 512                  True\n",
              "├─ReLU (relu4_2)                         [16, 256, 16, 14, 14] [16, 256, 16, 14, 14] --                   --\n",
              "├─Conv2DResidualBlock (conv5_1)          [16, 256, 16, 14, 14] [16, 512, 16, 7, 7]  --                   True\n",
              "│    └─Sequential (seq)                  [16, 256, 16, 14, 14] [16, 512, 16, 7, 7]  --                   True\n",
              "│    │    └─Conv3d (0)                   [16, 256, 16, 14, 14] [16, 512, 16, 7, 7]  1,180,160            True\n",
              "│    │    └─BatchNorm3d (1)              [16, 512, 16, 7, 7]  [16, 512, 16, 7, 7]  1,024                True\n",
              "│    │    └─ReLU (2)                     [16, 512, 16, 7, 7]  [16, 512, 16, 7, 7]  --                   --\n",
              "│    │    └─Conv3d (3)                   [16, 512, 16, 7, 7]  [16, 512, 16, 7, 7]  2,359,808            True\n",
              "│    │    └─BatchNorm3d (4)              [16, 512, 16, 7, 7]  [16, 512, 16, 7, 7]  1,024                True\n",
              "│    └─Sequential (downsample)           [16, 256, 16, 14, 14] [16, 512, 16, 7, 7]  --                   True\n",
              "│    │    └─Conv3d (0)                   [16, 256, 16, 14, 14] [16, 512, 16, 7, 7]  131,584              True\n",
              "│    │    └─BatchNorm3d (1)              [16, 512, 16, 7, 7]  [16, 512, 16, 7, 7]  1,024                True\n",
              "├─ReLU (relu5_1)                         [16, 512, 16, 7, 7]  [16, 512, 16, 7, 7]  --                   --\n",
              "├─Conv2DResidualBlock (conv5_2)          [16, 512, 16, 7, 7]  [16, 512, 16, 7, 7]  --                   True\n",
              "│    └─Sequential (seq)                  [16, 512, 16, 7, 7]  [16, 512, 16, 7, 7]  --                   True\n",
              "│    │    └─Conv3d (0)                   [16, 512, 16, 7, 7]  [16, 512, 16, 7, 7]  2,359,808            True\n",
              "│    │    └─BatchNorm3d (1)              [16, 512, 16, 7, 7]  [16, 512, 16, 7, 7]  1,024                True\n",
              "│    │    └─ReLU (2)                     [16, 512, 16, 7, 7]  [16, 512, 16, 7, 7]  --                   --\n",
              "│    │    └─Conv3d (3)                   [16, 512, 16, 7, 7]  [16, 512, 16, 7, 7]  2,359,808            True\n",
              "│    │    └─BatchNorm3d (4)              [16, 512, 16, 7, 7]  [16, 512, 16, 7, 7]  1,024                True\n",
              "├─ReLU (relu5_2)                         [16, 512, 16, 7, 7]  [16, 512, 16, 7, 7]  --                   --\n",
              "├─AdaptiveAvgPool3d (avgpool)            [16, 512, 16, 7, 7]  [16, 512, 1, 1, 1]   --                   --\n",
              "├─Linear (fc)                            [16, 512]            [16, 3]              1,539                True\n",
              "========================================================================================================================\n",
              "Total params: 12,528,771\n",
              "Trainable params: 12,528,771\n",
              "Non-trainable params: 0\n",
              "Total mult-adds (T): 1.28\n",
              "========================================================================================================================\n",
              "Input size (MB): 77.07\n",
              "Forward/backward pass size (MB): 11817.45\n",
              "Params size (MB): 50.12\n",
              "Estimated Total Size (MB): 11944.64\n",
              "========================================================================================================================"
            ]
          },
          "metadata": {},
          "execution_count": 7
        }
      ]
    },
    {
      "cell_type": "markdown",
      "source": [
        "## **ViViT:**"
      ],
      "metadata": {
        "id": "kEeBijIeznTl"
      }
    },
    {
      "cell_type": "code",
      "source": [
        "vivit = ViViT(num_transformer_layers=8, num_heads=8, num_classes=3)\n",
        "summary(model=vivit,\n",
        "        input_size=(BATCH, 3, FRAMES, HEIGHT, WIDTH), # (batch_size, color_channels, frames, height, width)\n",
        "        col_names=[\"input_size\", \"output_size\", \"num_params\", \"trainable\"],\n",
        "        col_width=20,\n",
        "        row_settings=[\"var_names\"]\n",
        ")"
      ],
      "metadata": {
        "id": "E5jZGh-QzreI",
        "colab": {
          "base_uri": "https://localhost:8080/"
        },
        "outputId": "5973763a-10d6-4ba2-985b-42de68013cfe"
      },
      "execution_count": 8,
      "outputs": [
        {
          "output_type": "execute_result",
          "data": {
            "text/plain": [
              "============================================================================================================================================\n",
              "Layer (type (var_name))                                      Input Shape          Output Shape         Param #              Trainable\n",
              "============================================================================================================================================\n",
              "ViViT (ViViT)                                                [16, 3, 32, 112, 112] [16, 3]              --                   True\n",
              "├─TubeletEmbedding (patch_embedding)                         [16, 3, 32, 112, 112] [16, 784, 768]       --                   True\n",
              "│    └─Conv3d (patcher)                                      [16, 3, 32, 112, 112] [16, 768, 16, 7, 7]  1,180,416            True\n",
              "│    └─Flatten (flatten)                                     [16, 768, 16, 7, 7]  [16, 768, 784]       --                   --\n",
              "├─PositionalEncoder (position_embedding)                     [16, 3, 32, 112, 112] [16, 784, 768]       --                   --\n",
              "├─Dropout (embedding_dropout)                                [16, 784, 768]       [16, 784, 768]       --                   --\n",
              "├─Sequential (transformer_encoder)                           [16, 784, 768]       [16, 784, 768]       --                   True\n",
              "│    └─TransformerEncoderBlock (0)                           [16, 784, 768]       [16, 784, 768]       --                   True\n",
              "│    │    └─MultiheadSelfAttentionBlock (msa_block)          [16, 784, 768]       [16, 784, 768]       2,363,904            True\n",
              "│    │    └─MLPBlock (mlp_block)                             [16, 784, 768]       [16, 784, 768]       4,723,968            True\n",
              "│    └─TransformerEncoderBlock (1)                           [16, 784, 768]       [16, 784, 768]       --                   True\n",
              "│    │    └─MultiheadSelfAttentionBlock (msa_block)          [16, 784, 768]       [16, 784, 768]       2,363,904            True\n",
              "│    │    └─MLPBlock (mlp_block)                             [16, 784, 768]       [16, 784, 768]       4,723,968            True\n",
              "│    └─TransformerEncoderBlock (2)                           [16, 784, 768]       [16, 784, 768]       --                   True\n",
              "│    │    └─MultiheadSelfAttentionBlock (msa_block)          [16, 784, 768]       [16, 784, 768]       2,363,904            True\n",
              "│    │    └─MLPBlock (mlp_block)                             [16, 784, 768]       [16, 784, 768]       4,723,968            True\n",
              "│    └─TransformerEncoderBlock (3)                           [16, 784, 768]       [16, 784, 768]       --                   True\n",
              "│    │    └─MultiheadSelfAttentionBlock (msa_block)          [16, 784, 768]       [16, 784, 768]       2,363,904            True\n",
              "│    │    └─MLPBlock (mlp_block)                             [16, 784, 768]       [16, 784, 768]       4,723,968            True\n",
              "│    └─TransformerEncoderBlock (4)                           [16, 784, 768]       [16, 784, 768]       --                   True\n",
              "│    │    └─MultiheadSelfAttentionBlock (msa_block)          [16, 784, 768]       [16, 784, 768]       2,363,904            True\n",
              "│    │    └─MLPBlock (mlp_block)                             [16, 784, 768]       [16, 784, 768]       4,723,968            True\n",
              "│    └─TransformerEncoderBlock (5)                           [16, 784, 768]       [16, 784, 768]       --                   True\n",
              "│    │    └─MultiheadSelfAttentionBlock (msa_block)          [16, 784, 768]       [16, 784, 768]       2,363,904            True\n",
              "│    │    └─MLPBlock (mlp_block)                             [16, 784, 768]       [16, 784, 768]       4,723,968            True\n",
              "│    └─TransformerEncoderBlock (6)                           [16, 784, 768]       [16, 784, 768]       --                   True\n",
              "│    │    └─MultiheadSelfAttentionBlock (msa_block)          [16, 784, 768]       [16, 784, 768]       2,363,904            True\n",
              "│    │    └─MLPBlock (mlp_block)                             [16, 784, 768]       [16, 784, 768]       4,723,968            True\n",
              "│    └─TransformerEncoderBlock (7)                           [16, 784, 768]       [16, 784, 768]       --                   True\n",
              "│    │    └─MultiheadSelfAttentionBlock (msa_block)          [16, 784, 768]       [16, 784, 768]       2,363,904            True\n",
              "│    │    └─MLPBlock (mlp_block)                             [16, 784, 768]       [16, 784, 768]       4,723,968            True\n",
              "├─LayerNorm (layer_norm)                                     [16, 784, 768]       [16, 784, 768]       1,536                True\n",
              "├─AdaptiveAvgPool1d (avgpool)                                [16, 768, 784]       [16, 768, 1]         --                   --\n",
              "├─Linear (fc)                                                [16, 768]            [16, 3]              2,307                True\n",
              "============================================================================================================================================\n",
              "Total params: 57,887,235\n",
              "Trainable params: 57,887,235\n",
              "Non-trainable params: 0\n",
              "Total mult-adds (G): 15.41\n",
              "============================================================================================================================================\n",
              "Input size (MB): 77.07\n",
              "Forward/backward pass size (MB): 4470.08\n",
              "Params size (MB): 155.95\n",
              "Estimated Total Size (MB): 4703.10\n",
              "============================================================================================================================================"
            ]
          },
          "metadata": {},
          "execution_count": 8
        }
      ]
    }
  ]
}