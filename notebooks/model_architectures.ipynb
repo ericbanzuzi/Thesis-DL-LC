{
  "nbformat": 4,
  "nbformat_minor": 0,
  "metadata": {
    "colab": {
      "provenance": [],
      "machine_shape": "hm",
      "authorship_tag": "ABX9TyP/QcKcVfqFLaovMccKTVSf",
      "include_colab_link": true
    },
    "kernelspec": {
      "name": "python3",
      "display_name": "Python 3"
    },
    "language_info": {
      "name": "python"
    },
    "gpuClass": "standard"
  },
  "cells": [
    {
      "cell_type": "markdown",
      "metadata": {
        "id": "view-in-github",
        "colab_type": "text"
      },
      "source": [
        "<a href=\"https://colab.research.google.com/github/ericbanzuzi/Thesis-DL-LC/blob/main/notebooks/model_architectures.ipynb\" target=\"_parent\"><img src=\"https://colab.research.google.com/assets/colab-badge.svg\" alt=\"Open In Colab\"/></a>"
      ]
    },
    {
      "cell_type": "code",
      "execution_count": 1,
      "metadata": {
        "id": "CaRAGkQRGGn2",
        "colab": {
          "base_uri": "https://localhost:8080/"
        },
        "outputId": "f9ad3fc6-b751-450f-9d81-692575b56408"
      },
      "outputs": [
        {
          "output_type": "stream",
          "name": "stdout",
          "text": [
            "Mounted at /content/drive\n"
          ]
        }
      ],
      "source": [
        "from google.colab import drive\n",
        "from pathlib import Path\n",
        "\n",
        "drive.mount('/content/drive', force_remount=True)\n",
        "base = Path('/content/drive/MyDrive/thesis')  # working directory "
      ]
    },
    {
      "cell_type": "markdown",
      "source": [
        "Get the git repo to colab through a zip file to get faster performance"
      ],
      "metadata": {
        "id": "1mOLcuJaxfF1"
      }
    },
    {
      "cell_type": "code",
      "source": [
        "zip_path = base/'Thesis-DL-LC-main.zip'\n",
        "!cp '{zip_path}' .\n",
        "!unzip -q Thesis-DL-LC-main.zip\n",
        "!rm Thesis-DL-LC-main.zip"
      ],
      "metadata": {
        "id": "LIZavPsTxSp2"
      },
      "execution_count": 2,
      "outputs": []
    },
    {
      "cell_type": "code",
      "source": [
        "%cd '/content/Thesis-DL-LC-main'"
      ],
      "metadata": {
        "id": "V9CILG6vxWjf",
        "colab": {
          "base_uri": "https://localhost:8080/"
        },
        "outputId": "d16af546-1324-42cf-e016-d08617dccb77"
      },
      "execution_count": 3,
      "outputs": [
        {
          "output_type": "stream",
          "name": "stdout",
          "text": [
            "/content/Thesis-DL-LC-main\n"
          ]
        }
      ]
    },
    {
      "cell_type": "code",
      "source": [
        "# imports\n",
        "!pip install torchinfo\n",
        "from torchinfo import summary\n",
        "from models.models import R2Plus1D, MC4, S3D, ViViT"
      ],
      "metadata": {
        "id": "7nNI8NljxjjJ",
        "colab": {
          "base_uri": "https://localhost:8080/"
        },
        "outputId": "1162df23-7415-4cb6-e233-54dc3b9fec0b"
      },
      "execution_count": 4,
      "outputs": [
        {
          "output_type": "stream",
          "name": "stdout",
          "text": [
            "Looking in indexes: https://pypi.org/simple, https://us-python.pkg.dev/colab-wheels/public/simple/\n",
            "Collecting torchinfo\n",
            "  Downloading torchinfo-1.8.0-py3-none-any.whl (23 kB)\n",
            "Installing collected packages: torchinfo\n",
            "Successfully installed torchinfo-1.8.0\n"
          ]
        }
      ]
    },
    {
      "cell_type": "code",
      "source": [
        "# This project's video inputs\n",
        "BATCH = 16\n",
        "HEIGHT = 112\n",
        "WIDTH = 112\n",
        "FRAMES = 32\n",
        "S3D_HEIGHT = 224\n",
        "S3D_WIDTH = 224"
      ],
      "metadata": {
        "id": "3BEl9BJWyj50"
      },
      "execution_count": 5,
      "outputs": []
    },
    {
      "cell_type": "markdown",
      "source": [
        "## **R2Plus1D:**"
      ],
      "metadata": {
        "id": "Qsayq3Klx4u6"
      }
    },
    {
      "cell_type": "code",
      "source": [
        "r2plus1d = R2Plus1D(num_classes=3)\n",
        "summary(model=r2plus1d,\n",
        "        input_size=(BATCH, 3, FRAMES, HEIGHT, WIDTH), # (batch_size, color_channels, frames, height, width)\n",
        "        col_names=[\"input_size\", \"output_size\", \"num_params\", \"trainable\"],\n",
        "        col_width=20,\n",
        "        row_settings=[\"var_names\"]\n",
        ")"
      ],
      "metadata": {
        "id": "L7qvspajx_ng",
        "colab": {
          "base_uri": "https://localhost:8080/"
        },
        "outputId": "a29fc708-07be-4e79-cc33-b5bc856c7b47"
      },
      "execution_count": 6,
      "outputs": [
        {
          "output_type": "execute_result",
          "data": {
            "text/plain": [
              "=============================================================================================================================\n",
              "Layer (type (var_name))                       Input Shape          Output Shape         Param #              Trainable\n",
              "=============================================================================================================================\n",
              "R2Plus1D (R2Plus1D)                           [16, 3, 32, 112, 112] [16, 3]              --                   True\n",
              "├─Sequential (conv1)                          [16, 3, 32, 112, 112] [16, 64, 32, 56, 56] --                   True\n",
              "│    └─Conv3d (0)                             [16, 3, 32, 112, 112] [16, 45, 32, 56, 56] 6,660                True\n",
              "│    └─BatchNorm3d (1)                        [16, 45, 32, 56, 56] [16, 45, 32, 56, 56] 90                   True\n",
              "│    └─ReLU (2)                               [16, 45, 32, 56, 56] [16, 45, 32, 56, 56] --                   --\n",
              "│    └─Conv3d (3)                             [16, 45, 32, 56, 56] [16, 64, 32, 56, 56] 8,704                True\n",
              "│    └─BatchNorm3d (4)                        [16, 64, 32, 56, 56] [16, 64, 32, 56, 56] 128                  True\n",
              "│    └─ReLU (5)                               [16, 64, 32, 56, 56] [16, 64, 32, 56, 56] --                   --\n",
              "├─Conv2Plus1DResidualBlock (conv2_1)          [16, 64, 32, 56, 56] [16, 64, 32, 56, 56] --                   True\n",
              "│    └─Sequential (seq)                       [16, 64, 32, 56, 56] [16, 64, 32, 56, 56] --                   True\n",
              "│    │    └─Conv2Plus1D (0)                   [16, 64, 32, 56, 56] [16, 64, 32, 56, 56] 111,088              True\n",
              "│    │    └─BatchNorm3d (1)                   [16, 64, 32, 56, 56] [16, 64, 32, 56, 56] 128                  True\n",
              "│    │    └─ReLU (2)                          [16, 64, 32, 56, 56] [16, 64, 32, 56, 56] --                   --\n",
              "│    │    └─Conv2Plus1D (3)                   [16, 64, 32, 56, 56] [16, 64, 32, 56, 56] 111,088              True\n",
              "│    │    └─BatchNorm3d (4)                   [16, 64, 32, 56, 56] [16, 64, 32, 56, 56] 128                  True\n",
              "├─ReLU (relu2_1)                              [16, 64, 32, 56, 56] [16, 64, 32, 56, 56] --                   --\n",
              "├─Conv2Plus1DResidualBlock (conv2_2)          [16, 64, 32, 56, 56] [16, 64, 32, 56, 56] --                   True\n",
              "│    └─Sequential (seq)                       [16, 64, 32, 56, 56] [16, 64, 32, 56, 56] --                   True\n",
              "│    │    └─Conv2Plus1D (0)                   [16, 64, 32, 56, 56] [16, 64, 32, 56, 56] 111,088              True\n",
              "│    │    └─BatchNorm3d (1)                   [16, 64, 32, 56, 56] [16, 64, 32, 56, 56] 128                  True\n",
              "│    │    └─ReLU (2)                          [16, 64, 32, 56, 56] [16, 64, 32, 56, 56] --                   --\n",
              "│    │    └─Conv2Plus1D (3)                   [16, 64, 32, 56, 56] [16, 64, 32, 56, 56] 111,088              True\n",
              "│    │    └─BatchNorm3d (4)                   [16, 64, 32, 56, 56] [16, 64, 32, 56, 56] 128                  True\n",
              "├─ReLU (relu2_2)                              [16, 64, 32, 56, 56] [16, 64, 32, 56, 56] --                   --\n",
              "├─Conv2Plus1DResidualBlock (conv3_1)          [16, 64, 32, 56, 56] [16, 128, 16, 28, 28] --                   True\n",
              "│    └─Sequential (seq)                       [16, 64, 32, 56, 56] [16, 128, 16, 28, 28] --                   True\n",
              "│    │    └─Conv2Plus1D (0)                   [16, 64, 32, 56, 56] [16, 128, 16, 28, 28] 221,618              True\n",
              "│    │    └─BatchNorm3d (1)                   [16, 128, 16, 28, 28] [16, 128, 16, 28, 28] 256                  True\n",
              "│    │    └─ReLU (2)                          [16, 128, 16, 28, 28] [16, 128, 16, 28, 28] --                   --\n",
              "│    │    └─Conv2Plus1D (3)                   [16, 128, 16, 28, 28] [16, 128, 16, 28, 28] 443,360              True\n",
              "│    │    └─BatchNorm3d (4)                   [16, 128, 16, 28, 28] [16, 128, 16, 28, 28] 256                  True\n",
              "│    └─Sequential (downsample)                [16, 64, 32, 56, 56] [16, 128, 16, 28, 28] --                   True\n",
              "│    │    └─Conv3d (0)                        [16, 64, 32, 56, 56] [16, 128, 16, 28, 28] 8,320                True\n",
              "│    │    └─BatchNorm3d (1)                   [16, 128, 16, 28, 28] [16, 128, 16, 28, 28] 256                  True\n",
              "├─ReLU (relu3_1)                              [16, 128, 16, 28, 28] [16, 128, 16, 28, 28] --                   --\n",
              "├─Conv2Plus1DResidualBlock (conv3_2)          [16, 128, 16, 28, 28] [16, 128, 16, 28, 28] --                   True\n",
              "│    └─Sequential (seq)                       [16, 128, 16, 28, 28] [16, 128, 16, 28, 28] --                   True\n",
              "│    │    └─Conv2Plus1D (0)                   [16, 128, 16, 28, 28] [16, 128, 16, 28, 28] 443,360              True\n",
              "│    │    └─BatchNorm3d (1)                   [16, 128, 16, 28, 28] [16, 128, 16, 28, 28] 256                  True\n",
              "│    │    └─ReLU (2)                          [16, 128, 16, 28, 28] [16, 128, 16, 28, 28] --                   --\n",
              "│    │    └─Conv2Plus1D (3)                   [16, 128, 16, 28, 28] [16, 128, 16, 28, 28] 443,360              True\n",
              "│    │    └─BatchNorm3d (4)                   [16, 128, 16, 28, 28] [16, 128, 16, 28, 28] 256                  True\n",
              "├─ReLU (relu3_2)                              [16, 128, 16, 28, 28] [16, 128, 16, 28, 28] --                   --\n",
              "├─Conv2Plus1DResidualBlock (conv4_1)          [16, 128, 16, 28, 28] [16, 256, 8, 14, 14] --                   True\n",
              "│    └─Sequential (seq)                       [16, 128, 16, 28, 28] [16, 256, 8, 14, 14] --                   True\n",
              "│    │    └─Conv2Plus1D (0)                   [16, 128, 16, 28, 28] [16, 256, 8, 14, 14] 884,836              True\n",
              "│    │    └─BatchNorm3d (1)                   [16, 256, 8, 14, 14] [16, 256, 8, 14, 14] 512                  True\n",
              "│    │    └─ReLU (2)                          [16, 256, 8, 14, 14] [16, 256, 8, 14, 14] --                   --\n",
              "│    │    └─Conv2Plus1D (3)                   [16, 256, 8, 14, 14] [16, 256, 8, 14, 14] 1,771,456            True\n",
              "│    │    └─BatchNorm3d (4)                   [16, 256, 8, 14, 14] [16, 256, 8, 14, 14] 512                  True\n",
              "│    └─Sequential (downsample)                [16, 128, 16, 28, 28] [16, 256, 8, 14, 14] --                   True\n",
              "│    │    └─Conv3d (0)                        [16, 128, 16, 28, 28] [16, 256, 8, 14, 14] 33,024               True\n",
              "│    │    └─BatchNorm3d (1)                   [16, 256, 8, 14, 14] [16, 256, 8, 14, 14] 512                  True\n",
              "├─ReLU (relu4_1)                              [16, 256, 8, 14, 14] [16, 256, 8, 14, 14] --                   --\n",
              "├─Conv2Plus1DResidualBlock (conv4_2)          [16, 256, 8, 14, 14] [16, 256, 8, 14, 14] --                   True\n",
              "│    └─Sequential (seq)                       [16, 256, 8, 14, 14] [16, 256, 8, 14, 14] --                   True\n",
              "│    │    └─Conv2Plus1D (0)                   [16, 256, 8, 14, 14] [16, 256, 8, 14, 14] 1,771,456            True\n",
              "│    │    └─BatchNorm3d (1)                   [16, 256, 8, 14, 14] [16, 256, 8, 14, 14] 512                  True\n",
              "│    │    └─ReLU (2)                          [16, 256, 8, 14, 14] [16, 256, 8, 14, 14] --                   --\n",
              "│    │    └─Conv2Plus1D (3)                   [16, 256, 8, 14, 14] [16, 256, 8, 14, 14] 1,771,456            True\n",
              "│    │    └─BatchNorm3d (4)                   [16, 256, 8, 14, 14] [16, 256, 8, 14, 14] 512                  True\n",
              "├─ReLU (relu4_2)                              [16, 256, 8, 14, 14] [16, 256, 8, 14, 14] --                   --\n",
              "├─Conv2Plus1DResidualBlock (conv5_1)          [16, 256, 8, 14, 14] [16, 512, 4, 7, 7]   --                   True\n",
              "│    └─Sequential (seq)                       [16, 256, 8, 14, 14] [16, 512, 4, 7, 7]   --                   True\n",
              "│    │    └─Conv2Plus1D (0)                   [16, 256, 8, 14, 14] [16, 512, 4, 7, 7]   3,539,915            True\n",
              "│    │    └─BatchNorm3d (1)                   [16, 512, 4, 7, 7]   [16, 512, 4, 7, 7]   1,024                True\n",
              "│    │    └─ReLU (2)                          [16, 512, 4, 7, 7]   [16, 512, 4, 7, 7]   --                   --\n",
              "│    │    └─Conv2Plus1D (3)                   [16, 512, 4, 7, 7]   [16, 512, 4, 7, 7]   7,081,856            True\n",
              "│    │    └─BatchNorm3d (4)                   [16, 512, 4, 7, 7]   [16, 512, 4, 7, 7]   1,024                True\n",
              "│    └─Sequential (downsample)                [16, 256, 8, 14, 14] [16, 512, 4, 7, 7]   --                   True\n",
              "│    │    └─Conv3d (0)                        [16, 256, 8, 14, 14] [16, 512, 4, 7, 7]   131,584              True\n",
              "│    │    └─BatchNorm3d (1)                   [16, 512, 4, 7, 7]   [16, 512, 4, 7, 7]   1,024                True\n",
              "├─ReLU (relu5_1)                              [16, 512, 4, 7, 7]   [16, 512, 4, 7, 7]   --                   --\n",
              "├─Conv2Plus1DResidualBlock (conv5_2)          [16, 512, 4, 7, 7]   [16, 512, 4, 7, 7]   --                   True\n",
              "│    └─Sequential (seq)                       [16, 512, 4, 7, 7]   [16, 512, 4, 7, 7]   --                   True\n",
              "│    │    └─Conv2Plus1D (0)                   [16, 512, 4, 7, 7]   [16, 512, 4, 7, 7]   7,081,856            True\n",
              "│    │    └─BatchNorm3d (1)                   [16, 512, 4, 7, 7]   [16, 512, 4, 7, 7]   1,024                True\n",
              "│    │    └─ReLU (2)                          [16, 512, 4, 7, 7]   [16, 512, 4, 7, 7]   --                   --\n",
              "│    │    └─Conv2Plus1D (3)                   [16, 512, 4, 7, 7]   [16, 512, 4, 7, 7]   7,081,856            True\n",
              "│    │    └─BatchNorm3d (4)                   [16, 512, 4, 7, 7]   [16, 512, 4, 7, 7]   1,024                True\n",
              "├─ReLU (relu5_2)                              [16, 512, 4, 7, 7]   [16, 512, 4, 7, 7]   --                   --\n",
              "├─AdaptiveAvgPool3d (global_avgpool)          [16, 512, 4, 7, 7]   [16, 512, 1, 1, 1]   --                   --\n",
              "├─Linear (fc)                                 [16, 512]            [16, 3]              1,539                True\n",
              "=============================================================================================================================\n",
              "Total params: 33,180,258\n",
              "Trainable params: 33,180,258\n",
              "Non-trainable params: 0\n",
              "Total mult-adds (T): 1.33\n",
              "=============================================================================================================================\n",
              "Input size (MB): 77.07\n",
              "Forward/backward pass size (MB): 32452.33\n",
              "Params size (MB): 132.72\n",
              "Estimated Total Size (MB): 32662.12\n",
              "============================================================================================================================="
            ]
          },
          "metadata": {},
          "execution_count": 6
        }
      ]
    },
    {
      "cell_type": "markdown",
      "source": [
        "## **MC4:**"
      ],
      "metadata": {
        "id": "U8y7ZZ_yzPXN"
      }
    },
    {
      "cell_type": "code",
      "source": [
        "mc4 = MC4(num_classes=3)\n",
        "summary(model=mc4,\n",
        "        input_size=(BATCH, 3, FRAMES, HEIGHT, WIDTH), # (batch_size, color_channels, frames, height, width)\n",
        "        col_names=[\"input_size\", \"output_size\", \"num_params\", \"trainable\"],\n",
        "        col_width=20,\n",
        "        row_settings=[\"var_names\"]\n",
        ")"
      ],
      "metadata": {
        "id": "J8H6Bn4-zWFd",
        "colab": {
          "base_uri": "https://localhost:8080/"
        },
        "outputId": "f1f5e016-8c11-41de-c0c5-97b426bf388e"
      },
      "execution_count": 7,
      "outputs": [
        {
          "output_type": "execute_result",
          "data": {
            "text/plain": [
              "========================================================================================================================\n",
              "Layer (type (var_name))                  Input Shape          Output Shape         Param #              Trainable\n",
              "========================================================================================================================\n",
              "MC4 (MC4)                                [16, 3, 32, 112, 112] [16, 3]              --                   True\n",
              "├─Sequential (conv1)                     [16, 3, 32, 112, 112] [16, 64, 32, 56, 56] --                   True\n",
              "│    └─Conv3d (0)                        [16, 3, 32, 112, 112] [16, 64, 32, 56, 56] 28,288               True\n",
              "│    └─BatchNorm3d (1)                   [16, 64, 32, 56, 56] [16, 64, 32, 56, 56] 128                  True\n",
              "│    └─ReLU (2)                          [16, 64, 32, 56, 56] [16, 64, 32, 56, 56] --                   --\n",
              "├─Conv3DResidualBlock (conv2_1)          [16, 64, 32, 56, 56] [16, 64, 32, 56, 56] --                   True\n",
              "│    └─Sequential (seq)                  [16, 64, 32, 56, 56] [16, 64, 32, 56, 56] --                   True\n",
              "│    │    └─Conv3d (0)                   [16, 64, 32, 56, 56] [16, 64, 32, 56, 56] 110,656              True\n",
              "│    │    └─BatchNorm3d (1)              [16, 64, 32, 56, 56] [16, 64, 32, 56, 56] 128                  True\n",
              "│    │    └─ReLU (2)                     [16, 64, 32, 56, 56] [16, 64, 32, 56, 56] --                   --\n",
              "│    │    └─Conv3d (3)                   [16, 64, 32, 56, 56] [16, 64, 32, 56, 56] 110,656              True\n",
              "│    │    └─BatchNorm3d (4)              [16, 64, 32, 56, 56] [16, 64, 32, 56, 56] 128                  True\n",
              "├─ReLU (relu2_1)                         [16, 64, 32, 56, 56] [16, 64, 32, 56, 56] --                   --\n",
              "├─Conv3DResidualBlock (conv2_2)          [16, 64, 32, 56, 56] [16, 64, 32, 56, 56] --                   True\n",
              "│    └─Sequential (seq)                  [16, 64, 32, 56, 56] [16, 64, 32, 56, 56] --                   True\n",
              "│    │    └─Conv3d (0)                   [16, 64, 32, 56, 56] [16, 64, 32, 56, 56] 110,656              True\n",
              "│    │    └─BatchNorm3d (1)              [16, 64, 32, 56, 56] [16, 64, 32, 56, 56] 128                  True\n",
              "│    │    └─ReLU (2)                     [16, 64, 32, 56, 56] [16, 64, 32, 56, 56] --                   --\n",
              "│    │    └─Conv3d (3)                   [16, 64, 32, 56, 56] [16, 64, 32, 56, 56] 110,656              True\n",
              "│    │    └─BatchNorm3d (4)              [16, 64, 32, 56, 56] [16, 64, 32, 56, 56] 128                  True\n",
              "├─ReLU (relu2_2)                         [16, 64, 32, 56, 56] [16, 64, 32, 56, 56] --                   --\n",
              "├─Conv3DResidualBlock (conv3_1)          [16, 64, 32, 56, 56] [16, 128, 16, 28, 28] --                   True\n",
              "│    └─Sequential (seq)                  [16, 64, 32, 56, 56] [16, 128, 16, 28, 28] --                   True\n",
              "│    │    └─Conv3d (0)                   [16, 64, 32, 56, 56] [16, 128, 16, 28, 28] 221,312              True\n",
              "│    │    └─BatchNorm3d (1)              [16, 128, 16, 28, 28] [16, 128, 16, 28, 28] 256                  True\n",
              "│    │    └─ReLU (2)                     [16, 128, 16, 28, 28] [16, 128, 16, 28, 28] --                   --\n",
              "│    │    └─Conv3d (3)                   [16, 128, 16, 28, 28] [16, 128, 16, 28, 28] 442,496              True\n",
              "│    │    └─BatchNorm3d (4)              [16, 128, 16, 28, 28] [16, 128, 16, 28, 28] 256                  True\n",
              "│    └─Sequential (downsample)           [16, 64, 32, 56, 56] [16, 128, 16, 28, 28] --                   True\n",
              "│    │    └─Conv3d (0)                   [16, 64, 32, 56, 56] [16, 128, 16, 28, 28] 8,320                True\n",
              "│    │    └─BatchNorm3d (1)              [16, 128, 16, 28, 28] [16, 128, 16, 28, 28] 256                  True\n",
              "├─ReLU (relu3_1)                         [16, 128, 16, 28, 28] [16, 128, 16, 28, 28] --                   --\n",
              "├─Conv3DResidualBlock (conv3_2)          [16, 128, 16, 28, 28] [16, 128, 16, 28, 28] --                   True\n",
              "│    └─Sequential (seq)                  [16, 128, 16, 28, 28] [16, 128, 16, 28, 28] --                   True\n",
              "│    │    └─Conv3d (0)                   [16, 128, 16, 28, 28] [16, 128, 16, 28, 28] 442,496              True\n",
              "│    │    └─BatchNorm3d (1)              [16, 128, 16, 28, 28] [16, 128, 16, 28, 28] 256                  True\n",
              "│    │    └─ReLU (2)                     [16, 128, 16, 28, 28] [16, 128, 16, 28, 28] --                   --\n",
              "│    │    └─Conv3d (3)                   [16, 128, 16, 28, 28] [16, 128, 16, 28, 28] 442,496              True\n",
              "│    │    └─BatchNorm3d (4)              [16, 128, 16, 28, 28] [16, 128, 16, 28, 28] 256                  True\n",
              "├─ReLU (relu3_2)                         [16, 128, 16, 28, 28] [16, 128, 16, 28, 28] --                   --\n",
              "├─Conv2DResidualBlock (conv4_1)          [16, 128, 16, 28, 28] [16, 256, 16, 14, 14] --                   True\n",
              "│    └─Sequential (seq)                  [16, 128, 16, 28, 28] [16, 256, 16, 14, 14] --                   True\n",
              "│    │    └─Conv3d (0)                   [16, 128, 16, 28, 28] [16, 256, 16, 14, 14] 295,168              True\n",
              "│    │    └─BatchNorm3d (1)              [16, 256, 16, 14, 14] [16, 256, 16, 14, 14] 512                  True\n",
              "│    │    └─ReLU (2)                     [16, 256, 16, 14, 14] [16, 256, 16, 14, 14] --                   --\n",
              "│    │    └─Conv3d (3)                   [16, 256, 16, 14, 14] [16, 256, 16, 14, 14] 590,080              True\n",
              "│    │    └─BatchNorm3d (4)              [16, 256, 16, 14, 14] [16, 256, 16, 14, 14] 512                  True\n",
              "│    └─Sequential (downsample)           [16, 128, 16, 28, 28] [16, 256, 16, 14, 14] --                   True\n",
              "│    │    └─Conv3d (0)                   [16, 128, 16, 28, 28] [16, 256, 16, 14, 14] 33,024               True\n",
              "│    │    └─BatchNorm3d (1)              [16, 256, 16, 14, 14] [16, 256, 16, 14, 14] 512                  True\n",
              "├─ReLU (relu4_1)                         [16, 256, 16, 14, 14] [16, 256, 16, 14, 14] --                   --\n",
              "├─Conv2DResidualBlock (conv4_2)          [16, 256, 16, 14, 14] [16, 256, 16, 14, 14] --                   True\n",
              "│    └─Sequential (seq)                  [16, 256, 16, 14, 14] [16, 256, 16, 14, 14] --                   True\n",
              "│    │    └─Conv3d (0)                   [16, 256, 16, 14, 14] [16, 256, 16, 14, 14] 590,080              True\n",
              "│    │    └─BatchNorm3d (1)              [16, 256, 16, 14, 14] [16, 256, 16, 14, 14] 512                  True\n",
              "│    │    └─ReLU (2)                     [16, 256, 16, 14, 14] [16, 256, 16, 14, 14] --                   --\n",
              "│    │    └─Conv3d (3)                   [16, 256, 16, 14, 14] [16, 256, 16, 14, 14] 590,080              True\n",
              "│    │    └─BatchNorm3d (4)              [16, 256, 16, 14, 14] [16, 256, 16, 14, 14] 512                  True\n",
              "├─ReLU (relu4_2)                         [16, 256, 16, 14, 14] [16, 256, 16, 14, 14] --                   --\n",
              "├─Conv2DResidualBlock (conv5_1)          [16, 256, 16, 14, 14] [16, 512, 16, 7, 7]  --                   True\n",
              "│    └─Sequential (seq)                  [16, 256, 16, 14, 14] [16, 512, 16, 7, 7]  --                   True\n",
              "│    │    └─Conv3d (0)                   [16, 256, 16, 14, 14] [16, 512, 16, 7, 7]  1,180,160            True\n",
              "│    │    └─BatchNorm3d (1)              [16, 512, 16, 7, 7]  [16, 512, 16, 7, 7]  1,024                True\n",
              "│    │    └─ReLU (2)                     [16, 512, 16, 7, 7]  [16, 512, 16, 7, 7]  --                   --\n",
              "│    │    └─Conv3d (3)                   [16, 512, 16, 7, 7]  [16, 512, 16, 7, 7]  2,359,808            True\n",
              "│    │    └─BatchNorm3d (4)              [16, 512, 16, 7, 7]  [16, 512, 16, 7, 7]  1,024                True\n",
              "│    └─Sequential (downsample)           [16, 256, 16, 14, 14] [16, 512, 16, 7, 7]  --                   True\n",
              "│    │    └─Conv3d (0)                   [16, 256, 16, 14, 14] [16, 512, 16, 7, 7]  131,584              True\n",
              "│    │    └─BatchNorm3d (1)              [16, 512, 16, 7, 7]  [16, 512, 16, 7, 7]  1,024                True\n",
              "├─ReLU (relu5_1)                         [16, 512, 16, 7, 7]  [16, 512, 16, 7, 7]  --                   --\n",
              "├─Conv2DResidualBlock (conv5_2)          [16, 512, 16, 7, 7]  [16, 512, 16, 7, 7]  --                   True\n",
              "│    └─Sequential (seq)                  [16, 512, 16, 7, 7]  [16, 512, 16, 7, 7]  --                   True\n",
              "│    │    └─Conv3d (0)                   [16, 512, 16, 7, 7]  [16, 512, 16, 7, 7]  2,359,808            True\n",
              "│    │    └─BatchNorm3d (1)              [16, 512, 16, 7, 7]  [16, 512, 16, 7, 7]  1,024                True\n",
              "│    │    └─ReLU (2)                     [16, 512, 16, 7, 7]  [16, 512, 16, 7, 7]  --                   --\n",
              "│    │    └─Conv3d (3)                   [16, 512, 16, 7, 7]  [16, 512, 16, 7, 7]  2,359,808            True\n",
              "│    │    └─BatchNorm3d (4)              [16, 512, 16, 7, 7]  [16, 512, 16, 7, 7]  1,024                True\n",
              "├─ReLU (relu5_2)                         [16, 512, 16, 7, 7]  [16, 512, 16, 7, 7]  --                   --\n",
              "├─AdaptiveAvgPool3d (global_avgpool)     [16, 512, 16, 7, 7]  [16, 512, 1, 1, 1]   --                   --\n",
              "├─Linear (fc)                            [16, 512]            [16, 3]              1,539                True\n",
              "========================================================================================================================\n",
              "Total params: 12,528,771\n",
              "Trainable params: 12,528,771\n",
              "Non-trainable params: 0\n",
              "Total mult-adds (T): 1.28\n",
              "========================================================================================================================\n",
              "Input size (MB): 77.07\n",
              "Forward/backward pass size (MB): 11817.45\n",
              "Params size (MB): 50.12\n",
              "Estimated Total Size (MB): 11944.64\n",
              "========================================================================================================================"
            ]
          },
          "metadata": {},
          "execution_count": 7
        }
      ]
    },
    {
      "cell_type": "markdown",
      "source": [
        "## **ViViT:**"
      ],
      "metadata": {
        "id": "kEeBijIeznTl"
      }
    },
    {
      "cell_type": "code",
      "source": [
        "vivit = ViViT(num_transformer_layers=8, num_heads=8, num_classes=3)\n",
        "summary(model=vivit,\n",
        "        input_size=(BATCH, 3, FRAMES, HEIGHT, WIDTH), # (batch_size, color_channels, frames, height, width)\n",
        "        col_names=[\"input_size\", \"output_size\", \"num_params\", \"trainable\"],\n",
        "        col_width=20,\n",
        "        row_settings=[\"var_names\"]\n",
        ")"
      ],
      "metadata": {
        "id": "E5jZGh-QzreI",
        "colab": {
          "base_uri": "https://localhost:8080/"
        },
        "outputId": "1e29a91d-6697-4e89-851e-2475a1fd82f0"
      },
      "execution_count": 8,
      "outputs": [
        {
          "output_type": "execute_result",
          "data": {
            "text/plain": [
              "============================================================================================================================================\n",
              "Layer (type (var_name))                                      Input Shape          Output Shape         Param #              Trainable\n",
              "============================================================================================================================================\n",
              "ViViT (ViViT)                                                [16, 3, 32, 112, 112] [16, 3]              --                   True\n",
              "├─TubeletEmbedding (patch_embedding)                         [16, 3, 32, 112, 112] [16, 784, 768]       --                   True\n",
              "│    └─Conv3d (patcher)                                      [16, 3, 32, 112, 112] [16, 768, 16, 7, 7]  1,180,416            True\n",
              "│    └─Flatten (flatten)                                     [16, 768, 16, 7, 7]  [16, 768, 784]       --                   --\n",
              "├─PositionalEncoder (position_embedding)                     [16, 3, 32, 112, 112] [16, 784, 768]       --                   --\n",
              "├─Dropout (embedding_dropout)                                [16, 784, 768]       [16, 784, 768]       --                   --\n",
              "├─Sequential (transformer_encoder)                           [16, 784, 768]       [16, 784, 768]       --                   True\n",
              "│    └─TransformerEncoderBlock (0)                           [16, 784, 768]       [16, 784, 768]       --                   True\n",
              "│    │    └─MultiheadSelfAttentionBlock (msa_block)          [16, 784, 768]       [16, 784, 768]       2,363,904            True\n",
              "│    │    └─MLPBlock (mlp_block)                             [16, 784, 768]       [16, 784, 768]       4,723,968            True\n",
              "│    └─TransformerEncoderBlock (1)                           [16, 784, 768]       [16, 784, 768]       --                   True\n",
              "│    │    └─MultiheadSelfAttentionBlock (msa_block)          [16, 784, 768]       [16, 784, 768]       2,363,904            True\n",
              "│    │    └─MLPBlock (mlp_block)                             [16, 784, 768]       [16, 784, 768]       4,723,968            True\n",
              "│    └─TransformerEncoderBlock (2)                           [16, 784, 768]       [16, 784, 768]       --                   True\n",
              "│    │    └─MultiheadSelfAttentionBlock (msa_block)          [16, 784, 768]       [16, 784, 768]       2,363,904            True\n",
              "│    │    └─MLPBlock (mlp_block)                             [16, 784, 768]       [16, 784, 768]       4,723,968            True\n",
              "│    └─TransformerEncoderBlock (3)                           [16, 784, 768]       [16, 784, 768]       --                   True\n",
              "│    │    └─MultiheadSelfAttentionBlock (msa_block)          [16, 784, 768]       [16, 784, 768]       2,363,904            True\n",
              "│    │    └─MLPBlock (mlp_block)                             [16, 784, 768]       [16, 784, 768]       4,723,968            True\n",
              "│    └─TransformerEncoderBlock (4)                           [16, 784, 768]       [16, 784, 768]       --                   True\n",
              "│    │    └─MultiheadSelfAttentionBlock (msa_block)          [16, 784, 768]       [16, 784, 768]       2,363,904            True\n",
              "│    │    └─MLPBlock (mlp_block)                             [16, 784, 768]       [16, 784, 768]       4,723,968            True\n",
              "│    └─TransformerEncoderBlock (5)                           [16, 784, 768]       [16, 784, 768]       --                   True\n",
              "│    │    └─MultiheadSelfAttentionBlock (msa_block)          [16, 784, 768]       [16, 784, 768]       2,363,904            True\n",
              "│    │    └─MLPBlock (mlp_block)                             [16, 784, 768]       [16, 784, 768]       4,723,968            True\n",
              "│    └─TransformerEncoderBlock (6)                           [16, 784, 768]       [16, 784, 768]       --                   True\n",
              "│    │    └─MultiheadSelfAttentionBlock (msa_block)          [16, 784, 768]       [16, 784, 768]       2,363,904            True\n",
              "│    │    └─MLPBlock (mlp_block)                             [16, 784, 768]       [16, 784, 768]       4,723,968            True\n",
              "│    └─TransformerEncoderBlock (7)                           [16, 784, 768]       [16, 784, 768]       --                   True\n",
              "│    │    └─MultiheadSelfAttentionBlock (msa_block)          [16, 784, 768]       [16, 784, 768]       2,363,904            True\n",
              "│    │    └─MLPBlock (mlp_block)                             [16, 784, 768]       [16, 784, 768]       4,723,968            True\n",
              "├─LayerNorm (layer_norm)                                     [16, 784, 768]       [16, 784, 768]       1,536                True\n",
              "├─AdaptiveAvgPool1d (avgpool)                                [16, 768, 784]       [16, 768, 1]         --                   --\n",
              "├─Linear (fc)                                                [16, 768]            [16, 3]              2,307                True\n",
              "============================================================================================================================================\n",
              "Total params: 57,887,235\n",
              "Trainable params: 57,887,235\n",
              "Non-trainable params: 0\n",
              "Total mult-adds (G): 15.41\n",
              "============================================================================================================================================\n",
              "Input size (MB): 77.07\n",
              "Forward/backward pass size (MB): 4470.08\n",
              "Params size (MB): 155.95\n",
              "Estimated Total Size (MB): 4703.10\n",
              "============================================================================================================================================"
            ]
          },
          "metadata": {},
          "execution_count": 8
        }
      ]
    },
    {
      "cell_type": "markdown",
      "source": [
        "## **S3D:**"
      ],
      "metadata": {
        "id": "MR4_bGll4zaW"
      }
    },
    {
      "cell_type": "code",
      "source": [
        "s3d = S3D(num_classes=3)\n",
        "summary(model=s3d,\n",
        "        input_size=(BATCH, 3, FRAMES, S3D_HEIGHT, S3D_WIDTH),  # (batch_size, color_channels, height, width)\n",
        "        col_names=[\"input_size\", \"output_size\", \"num_params\", \"trainable\"],\n",
        "        col_width=20,\n",
        "        row_settings=[\"var_names\"]\n",
        ")"
      ],
      "metadata": {
        "colab": {
          "base_uri": "https://localhost:8080/"
        },
        "id": "C3CWiP9c4qVM",
        "outputId": "a05efe10-9256-4d53-9cd1-9eaf7b6ff765"
      },
      "execution_count": 9,
      "outputs": [
        {
          "output_type": "execute_result",
          "data": {
            "text/plain": [
              "=============================================================================================================================\n",
              "Layer (type (var_name))                       Input Shape          Output Shape         Param #              Trainable\n",
              "=============================================================================================================================\n",
              "S3D (S3D)                                     [16, 3, 32, 224, 224] [16, 3]              --                   True\n",
              "├─Sequential (conv1)                          [16, 3, 32, 224, 224] [16, 64, 16, 112, 112] --                   True\n",
              "│    └─SepConv (0)                            [16, 3, 32, 224, 224] [16, 64, 16, 112, 112] --                   True\n",
              "│    │    └─Sequential (seq)                  [16, 3, 32, 224, 224] [16, 64, 16, 112, 112] 38,336               True\n",
              "│    └─BatchNorm3d (1)                        [16, 64, 16, 112, 112] [16, 64, 16, 112, 112] 128                  True\n",
              "│    └─ReLU (2)                               [16, 64, 16, 112, 112] [16, 64, 16, 112, 112] --                   --\n",
              "├─MaxPool3d (maxpool1)                        [16, 64, 16, 112, 112] [16, 64, 16, 56, 56] --                   --\n",
              "├─Sequential (conv2)                          [16, 64, 16, 56, 56] [16, 64, 16, 56, 56] --                   True\n",
              "│    └─Conv3d (0)                             [16, 64, 16, 56, 56] [16, 64, 16, 56, 56] 4,160                True\n",
              "│    └─BatchNorm3d (1)                        [16, 64, 16, 56, 56] [16, 64, 16, 56, 56] 128                  True\n",
              "│    └─ReLU (2)                               [16, 64, 16, 56, 56] [16, 64, 16, 56, 56] --                   --\n",
              "├─Sequential (conv3)                          [16, 64, 16, 56, 56] [16, 192, 16, 56, 56] --                   True\n",
              "│    └─SepConv (0)                            [16, 64, 16, 56, 56] [16, 192, 16, 56, 56] --                   True\n",
              "│    │    └─Sequential (seq)                  [16, 64, 16, 56, 56] [16, 192, 16, 56, 56] 221,952              True\n",
              "│    └─BatchNorm3d (1)                        [16, 192, 16, 56, 56] [16, 192, 16, 56, 56] 384                  True\n",
              "│    └─ReLU (2)                               [16, 192, 16, 56, 56] [16, 192, 16, 56, 56] --                   --\n",
              "├─MaxPool3d (maxpool2)                        [16, 192, 16, 56, 56] [16, 192, 16, 28, 28] --                   --\n",
              "├─SepInception (inc3a)                        [16, 192, 16, 28, 28] [16, 256, 16, 28, 28] --                   True\n",
              "│    └─Sequential (conv1)                     [16, 192, 16, 28, 28] [16, 64, 16, 28, 28] --                   True\n",
              "│    │    └─Conv3d (0)                        [16, 192, 16, 28, 28] [16, 64, 16, 28, 28] 12,352               True\n",
              "│    │    └─BatchNorm3d (1)                   [16, 64, 16, 28, 28] [16, 64, 16, 28, 28] 128                  True\n",
              "│    │    └─ReLU (2)                          [16, 64, 16, 28, 28] [16, 64, 16, 28, 28] --                   --\n",
              "│    └─Sequential (conv2)                     [16, 192, 16, 28, 28] [16, 128, 16, 28, 28] --                   True\n",
              "│    │    └─Conv3d (0)                        [16, 192, 16, 28, 28] [16, 96, 16, 28, 28] 18,528               True\n",
              "│    │    └─BatchNorm3d (1)                   [16, 96, 16, 28, 28] [16, 96, 16, 28, 28] 192                  True\n",
              "│    │    └─ReLU (2)                          [16, 96, 16, 28, 28] [16, 96, 16, 28, 28] --                   --\n",
              "│    │    └─SepConv (3)                       [16, 96, 16, 28, 28] [16, 128, 16, 28, 28] 160,256              True\n",
              "│    │    └─BatchNorm3d (4)                   [16, 128, 16, 28, 28] [16, 128, 16, 28, 28] 256                  True\n",
              "│    │    └─ReLU (5)                          [16, 128, 16, 28, 28] [16, 128, 16, 28, 28] --                   --\n",
              "│    └─Sequential (conv3)                     [16, 192, 16, 28, 28] [16, 32, 16, 28, 28] --                   True\n",
              "│    │    └─Conv3d (0)                        [16, 192, 16, 28, 28] [16, 16, 16, 28, 28] 3,088                True\n",
              "│    │    └─BatchNorm3d (1)                   [16, 16, 16, 28, 28] [16, 16, 16, 28, 28] 32                   True\n",
              "│    │    └─ReLU (2)                          [16, 16, 16, 28, 28] [16, 16, 16, 28, 28] --                   --\n",
              "│    │    └─SepConv (3)                       [16, 16, 16, 28, 28] [16, 32, 16, 28, 28] 7,808                True\n",
              "│    │    └─BatchNorm3d (4)                   [16, 32, 16, 28, 28] [16, 32, 16, 28, 28] 64                   True\n",
              "│    │    └─ReLU (5)                          [16, 32, 16, 28, 28] [16, 32, 16, 28, 28] --                   --\n",
              "│    └─Sequential (pool_proj)                 [16, 192, 16, 28, 28] [16, 32, 16, 28, 28] --                   True\n",
              "│    │    └─MaxPool3d (0)                     [16, 192, 16, 28, 28] [16, 192, 16, 28, 28] --                   --\n",
              "│    │    └─Conv3d (1)                        [16, 192, 16, 28, 28] [16, 32, 16, 28, 28] 6,176                True\n",
              "│    │    └─BatchNorm3d (2)                   [16, 32, 16, 28, 28] [16, 32, 16, 28, 28] 64                   True\n",
              "│    │    └─ReLU (3)                          [16, 32, 16, 28, 28] [16, 32, 16, 28, 28] --                   --\n",
              "├─SepInception (inc3b)                        [16, 256, 16, 28, 28] [16, 480, 16, 28, 28] --                   True\n",
              "│    └─Sequential (conv1)                     [16, 256, 16, 28, 28] [16, 128, 16, 28, 28] --                   True\n",
              "│    │    └─Conv3d (0)                        [16, 256, 16, 28, 28] [16, 128, 16, 28, 28] 32,896               True\n",
              "│    │    └─BatchNorm3d (1)                   [16, 128, 16, 28, 28] [16, 128, 16, 28, 28] 256                  True\n",
              "│    │    └─ReLU (2)                          [16, 128, 16, 28, 28] [16, 128, 16, 28, 28] --                   --\n",
              "│    └─Sequential (conv2)                     [16, 256, 16, 28, 28] [16, 192, 16, 28, 28] --                   True\n",
              "│    │    └─Conv3d (0)                        [16, 256, 16, 28, 28] [16, 128, 16, 28, 28] 32,896               True\n",
              "│    │    └─BatchNorm3d (1)                   [16, 128, 16, 28, 28] [16, 128, 16, 28, 28] 256                  True\n",
              "│    │    └─ReLU (2)                          [16, 128, 16, 28, 28] [16, 128, 16, 28, 28] --                   --\n",
              "│    │    └─SepConv (3)                       [16, 128, 16, 28, 28] [16, 192, 16, 28, 28] 332,544              True\n",
              "│    │    └─BatchNorm3d (4)                   [16, 192, 16, 28, 28] [16, 192, 16, 28, 28] 384                  True\n",
              "│    │    └─ReLU (5)                          [16, 192, 16, 28, 28] [16, 192, 16, 28, 28] --                   --\n",
              "│    └─Sequential (conv3)                     [16, 256, 16, 28, 28] [16, 96, 16, 28, 28] --                   True\n",
              "│    │    └─Conv3d (0)                        [16, 256, 16, 28, 28] [16, 32, 16, 28, 28] 8,224                True\n",
              "│    │    └─BatchNorm3d (1)                   [16, 32, 16, 28, 28] [16, 32, 16, 28, 28] 64                   True\n",
              "│    │    └─ReLU (2)                          [16, 32, 16, 28, 28] [16, 32, 16, 28, 28] --                   --\n",
              "│    │    └─SepConv (3)                       [16, 32, 16, 28, 28] [16, 96, 16, 28, 28] 55,680               True\n",
              "│    │    └─BatchNorm3d (4)                   [16, 96, 16, 28, 28] [16, 96, 16, 28, 28] 192                  True\n",
              "│    │    └─ReLU (5)                          [16, 96, 16, 28, 28] [16, 96, 16, 28, 28] --                   --\n",
              "│    └─Sequential (pool_proj)                 [16, 256, 16, 28, 28] [16, 64, 16, 28, 28] --                   True\n",
              "│    │    └─MaxPool3d (0)                     [16, 256, 16, 28, 28] [16, 256, 16, 28, 28] --                   --\n",
              "│    │    └─Conv3d (1)                        [16, 256, 16, 28, 28] [16, 64, 16, 28, 28] 16,448               True\n",
              "│    │    └─BatchNorm3d (2)                   [16, 64, 16, 28, 28] [16, 64, 16, 28, 28] 128                  True\n",
              "│    │    └─ReLU (3)                          [16, 64, 16, 28, 28] [16, 64, 16, 28, 28] --                   --\n",
              "├─MaxPool3d (maxpool3)                        [16, 480, 16, 28, 28] [16, 480, 8, 14, 14] --                   --\n",
              "├─SepInception (inc4a)                        [16, 480, 8, 14, 14] [16, 512, 8, 14, 14] --                   True\n",
              "│    └─Sequential (conv1)                     [16, 480, 8, 14, 14] [16, 192, 8, 14, 14] --                   True\n",
              "│    │    └─Conv3d (0)                        [16, 480, 8, 14, 14] [16, 192, 8, 14, 14] 92,352               True\n",
              "│    │    └─BatchNorm3d (1)                   [16, 192, 8, 14, 14] [16, 192, 8, 14, 14] 384                  True\n",
              "│    │    └─ReLU (2)                          [16, 192, 8, 14, 14] [16, 192, 8, 14, 14] --                   --\n",
              "│    └─Sequential (conv2)                     [16, 480, 8, 14, 14] [16, 208, 8, 14, 14] --                   True\n",
              "│    │    └─Conv3d (0)                        [16, 480, 8, 14, 14] [16, 96, 8, 14, 14]  46,176               True\n",
              "│    │    └─BatchNorm3d (1)                   [16, 96, 8, 14, 14]  [16, 96, 8, 14, 14]  192                  True\n",
              "│    │    └─ReLU (2)                          [16, 96, 8, 14, 14]  [16, 96, 8, 14, 14]  --                   --\n",
              "│    │    └─SepConv (3)                       [16, 96, 8, 14, 14]  [16, 208, 8, 14, 14] 310,336              True\n",
              "│    │    └─BatchNorm3d (4)                   [16, 208, 8, 14, 14] [16, 208, 8, 14, 14] 416                  True\n",
              "│    │    └─ReLU (5)                          [16, 208, 8, 14, 14] [16, 208, 8, 14, 14] --                   --\n",
              "│    └─Sequential (conv3)                     [16, 480, 8, 14, 14] [16, 48, 8, 14, 14]  --                   True\n",
              "│    │    └─Conv3d (0)                        [16, 480, 8, 14, 14] [16, 16, 8, 14, 14]  7,696                True\n",
              "│    │    └─BatchNorm3d (1)                   [16, 16, 8, 14, 14]  [16, 16, 8, 14, 14]  32                   True\n",
              "│    │    └─ReLU (2)                          [16, 16, 8, 14, 14]  [16, 16, 8, 14, 14]  --                   --\n",
              "│    │    └─SepConv (3)                       [16, 16, 8, 14, 14]  [16, 48, 8, 14, 14]  14,016               True\n",
              "│    │    └─BatchNorm3d (4)                   [16, 48, 8, 14, 14]  [16, 48, 8, 14, 14]  96                   True\n",
              "│    │    └─ReLU (5)                          [16, 48, 8, 14, 14]  [16, 48, 8, 14, 14]  --                   --\n",
              "│    └─Sequential (pool_proj)                 [16, 480, 8, 14, 14] [16, 64, 8, 14, 14]  --                   True\n",
              "│    │    └─MaxPool3d (0)                     [16, 480, 8, 14, 14] [16, 480, 8, 14, 14] --                   --\n",
              "│    │    └─Conv3d (1)                        [16, 480, 8, 14, 14] [16, 64, 8, 14, 14]  30,784               True\n",
              "│    │    └─BatchNorm3d (2)                   [16, 64, 8, 14, 14]  [16, 64, 8, 14, 14]  128                  True\n",
              "│    │    └─ReLU (3)                          [16, 64, 8, 14, 14]  [16, 64, 8, 14, 14]  --                   --\n",
              "├─SepInception (inc4b)                        [16, 512, 8, 14, 14] [16, 512, 8, 14, 14] --                   True\n",
              "│    └─Sequential (conv1)                     [16, 512, 8, 14, 14] [16, 160, 8, 14, 14] --                   True\n",
              "│    │    └─Conv3d (0)                        [16, 512, 8, 14, 14] [16, 160, 8, 14, 14] 82,080               True\n",
              "│    │    └─BatchNorm3d (1)                   [16, 160, 8, 14, 14] [16, 160, 8, 14, 14] 320                  True\n",
              "│    │    └─ReLU (2)                          [16, 160, 8, 14, 14] [16, 160, 8, 14, 14] --                   --\n",
              "│    └─Sequential (conv2)                     [16, 512, 8, 14, 14] [16, 224, 8, 14, 14] --                   True\n",
              "│    │    └─Conv3d (0)                        [16, 512, 8, 14, 14] [16, 112, 8, 14, 14] 57,456               True\n",
              "│    │    └─BatchNorm3d (1)                   [16, 112, 8, 14, 14] [16, 112, 8, 14, 14] 224                  True\n",
              "│    │    └─ReLU (2)                          [16, 112, 8, 14, 14] [16, 112, 8, 14, 14] --                   --\n",
              "│    │    └─SepConv (3)                       [16, 112, 8, 14, 14] [16, 224, 8, 14, 14] 377,216              True\n",
              "│    │    └─BatchNorm3d (4)                   [16, 224, 8, 14, 14] [16, 224, 8, 14, 14] 448                  True\n",
              "│    │    └─ReLU (5)                          [16, 224, 8, 14, 14] [16, 224, 8, 14, 14] --                   --\n",
              "│    └─Sequential (conv3)                     [16, 512, 8, 14, 14] [16, 64, 8, 14, 14]  --                   True\n",
              "│    │    └─Conv3d (0)                        [16, 512, 8, 14, 14] [16, 24, 8, 14, 14]  12,312               True\n",
              "│    │    └─BatchNorm3d (1)                   [16, 24, 8, 14, 14]  [16, 24, 8, 14, 14]  48                   True\n",
              "│    │    └─ReLU (2)                          [16, 24, 8, 14, 14]  [16, 24, 8, 14, 14]  --                   --\n",
              "│    │    └─SepConv (3)                       [16, 24, 8, 14, 14]  [16, 64, 8, 14, 14]  26,368               True\n",
              "│    │    └─BatchNorm3d (4)                   [16, 64, 8, 14, 14]  [16, 64, 8, 14, 14]  128                  True\n",
              "│    │    └─ReLU (5)                          [16, 64, 8, 14, 14]  [16, 64, 8, 14, 14]  --                   --\n",
              "│    └─Sequential (pool_proj)                 [16, 512, 8, 14, 14] [16, 64, 8, 14, 14]  --                   True\n",
              "│    │    └─MaxPool3d (0)                     [16, 512, 8, 14, 14] [16, 512, 8, 14, 14] --                   --\n",
              "│    │    └─Conv3d (1)                        [16, 512, 8, 14, 14] [16, 64, 8, 14, 14]  32,832               True\n",
              "│    │    └─BatchNorm3d (2)                   [16, 64, 8, 14, 14]  [16, 64, 8, 14, 14]  128                  True\n",
              "│    │    └─ReLU (3)                          [16, 64, 8, 14, 14]  [16, 64, 8, 14, 14]  --                   --\n",
              "├─SepInception (inc4c)                        [16, 512, 8, 14, 14] [16, 512, 8, 14, 14] --                   True\n",
              "│    └─Sequential (conv1)                     [16, 512, 8, 14, 14] [16, 128, 8, 14, 14] --                   True\n",
              "│    │    └─Conv3d (0)                        [16, 512, 8, 14, 14] [16, 128, 8, 14, 14] 65,664               True\n",
              "│    │    └─BatchNorm3d (1)                   [16, 128, 8, 14, 14] [16, 128, 8, 14, 14] 256                  True\n",
              "│    │    └─ReLU (2)                          [16, 128, 8, 14, 14] [16, 128, 8, 14, 14] --                   --\n",
              "│    └─Sequential (conv2)                     [16, 512, 8, 14, 14] [16, 256, 8, 14, 14] --                   True\n",
              "│    │    └─Conv3d (0)                        [16, 512, 8, 14, 14] [16, 128, 8, 14, 14] 65,664               True\n",
              "│    │    └─BatchNorm3d (1)                   [16, 128, 8, 14, 14] [16, 128, 8, 14, 14] 256                  True\n",
              "│    │    └─ReLU (2)                          [16, 128, 8, 14, 14] [16, 128, 8, 14, 14] --                   --\n",
              "│    │    └─SepConv (3)                       [16, 128, 8, 14, 14] [16, 256, 8, 14, 14] 492,544              True\n",
              "│    │    └─BatchNorm3d (4)                   [16, 256, 8, 14, 14] [16, 256, 8, 14, 14] 512                  True\n",
              "│    │    └─ReLU (5)                          [16, 256, 8, 14, 14] [16, 256, 8, 14, 14] --                   --\n",
              "│    └─Sequential (conv3)                     [16, 512, 8, 14, 14] [16, 64, 8, 14, 14]  --                   True\n",
              "│    │    └─Conv3d (0)                        [16, 512, 8, 14, 14] [16, 24, 8, 14, 14]  12,312               True\n",
              "│    │    └─BatchNorm3d (1)                   [16, 24, 8, 14, 14]  [16, 24, 8, 14, 14]  48                   True\n",
              "│    │    └─ReLU (2)                          [16, 24, 8, 14, 14]  [16, 24, 8, 14, 14]  --                   --\n",
              "│    │    └─SepConv (3)                       [16, 24, 8, 14, 14]  [16, 64, 8, 14, 14]  26,368               True\n",
              "│    │    └─BatchNorm3d (4)                   [16, 64, 8, 14, 14]  [16, 64, 8, 14, 14]  128                  True\n",
              "│    │    └─ReLU (5)                          [16, 64, 8, 14, 14]  [16, 64, 8, 14, 14]  --                   --\n",
              "│    └─Sequential (pool_proj)                 [16, 512, 8, 14, 14] [16, 64, 8, 14, 14]  --                   True\n",
              "│    │    └─MaxPool3d (0)                     [16, 512, 8, 14, 14] [16, 512, 8, 14, 14] --                   --\n",
              "│    │    └─Conv3d (1)                        [16, 512, 8, 14, 14] [16, 64, 8, 14, 14]  32,832               True\n",
              "│    │    └─BatchNorm3d (2)                   [16, 64, 8, 14, 14]  [16, 64, 8, 14, 14]  128                  True\n",
              "│    │    └─ReLU (3)                          [16, 64, 8, 14, 14]  [16, 64, 8, 14, 14]  --                   --\n",
              "├─SepInception (inc4d)                        [16, 512, 8, 14, 14] [16, 528, 8, 14, 14] --                   True\n",
              "│    └─Sequential (conv1)                     [16, 512, 8, 14, 14] [16, 112, 8, 14, 14] --                   True\n",
              "│    │    └─Conv3d (0)                        [16, 512, 8, 14, 14] [16, 112, 8, 14, 14] 57,456               True\n",
              "│    │    └─BatchNorm3d (1)                   [16, 112, 8, 14, 14] [16, 112, 8, 14, 14] 224                  True\n",
              "│    │    └─ReLU (2)                          [16, 112, 8, 14, 14] [16, 112, 8, 14, 14] --                   --\n",
              "│    └─Sequential (conv2)                     [16, 512, 8, 14, 14] [16, 288, 8, 14, 14] --                   True\n",
              "│    │    └─Conv3d (0)                        [16, 512, 8, 14, 14] [16, 144, 8, 14, 14] 73,872               True\n",
              "│    │    └─BatchNorm3d (1)                   [16, 144, 8, 14, 14] [16, 144, 8, 14, 14] 288                  True\n",
              "│    │    └─ReLU (2)                          [16, 144, 8, 14, 14] [16, 144, 8, 14, 14] --                   --\n",
              "│    │    └─SepConv (3)                       [16, 144, 8, 14, 14] [16, 288, 8, 14, 14] 623,232              True\n",
              "│    │    └─BatchNorm3d (4)                   [16, 288, 8, 14, 14] [16, 288, 8, 14, 14] 576                  True\n",
              "│    │    └─ReLU (5)                          [16, 288, 8, 14, 14] [16, 288, 8, 14, 14] --                   --\n",
              "│    └─Sequential (conv3)                     [16, 512, 8, 14, 14] [16, 64, 8, 14, 14]  --                   True\n",
              "│    │    └─Conv3d (0)                        [16, 512, 8, 14, 14] [16, 32, 8, 14, 14]  16,416               True\n",
              "│    │    └─BatchNorm3d (1)                   [16, 32, 8, 14, 14]  [16, 32, 8, 14, 14]  64                   True\n",
              "│    │    └─ReLU (2)                          [16, 32, 8, 14, 14]  [16, 32, 8, 14, 14]  --                   --\n",
              "│    │    └─SepConv (3)                       [16, 32, 8, 14, 14]  [16, 64, 8, 14, 14]  30,976               True\n",
              "│    │    └─BatchNorm3d (4)                   [16, 64, 8, 14, 14]  [16, 64, 8, 14, 14]  128                  True\n",
              "│    │    └─ReLU (5)                          [16, 64, 8, 14, 14]  [16, 64, 8, 14, 14]  --                   --\n",
              "│    └─Sequential (pool_proj)                 [16, 512, 8, 14, 14] [16, 64, 8, 14, 14]  --                   True\n",
              "│    │    └─MaxPool3d (0)                     [16, 512, 8, 14, 14] [16, 512, 8, 14, 14] --                   --\n",
              "│    │    └─Conv3d (1)                        [16, 512, 8, 14, 14] [16, 64, 8, 14, 14]  32,832               True\n",
              "│    │    └─BatchNorm3d (2)                   [16, 64, 8, 14, 14]  [16, 64, 8, 14, 14]  128                  True\n",
              "│    │    └─ReLU (3)                          [16, 64, 8, 14, 14]  [16, 64, 8, 14, 14]  --                   --\n",
              "├─SepInception (inc4e)                        [16, 528, 8, 14, 14] [16, 832, 8, 14, 14] --                   True\n",
              "│    └─Sequential (conv1)                     [16, 528, 8, 14, 14] [16, 256, 8, 14, 14] --                   True\n",
              "│    │    └─Conv3d (0)                        [16, 528, 8, 14, 14] [16, 256, 8, 14, 14] 135,424              True\n",
              "│    │    └─BatchNorm3d (1)                   [16, 256, 8, 14, 14] [16, 256, 8, 14, 14] 512                  True\n",
              "│    │    └─ReLU (2)                          [16, 256, 8, 14, 14] [16, 256, 8, 14, 14] --                   --\n",
              "│    └─Sequential (conv2)                     [16, 528, 8, 14, 14] [16, 320, 8, 14, 14] --                   True\n",
              "│    │    └─Conv3d (0)                        [16, 528, 8, 14, 14] [16, 160, 8, 14, 14] 84,640               True\n",
              "│    │    └─BatchNorm3d (1)                   [16, 160, 8, 14, 14] [16, 160, 8, 14, 14] 320                  True\n",
              "│    │    └─ReLU (2)                          [16, 160, 8, 14, 14] [16, 160, 8, 14, 14] --                   --\n",
              "│    │    └─SepConv (3)                       [16, 160, 8, 14, 14] [16, 320, 8, 14, 14] 769,280              True\n",
              "│    │    └─BatchNorm3d (4)                   [16, 320, 8, 14, 14] [16, 320, 8, 14, 14] 640                  True\n",
              "│    │    └─ReLU (5)                          [16, 320, 8, 14, 14] [16, 320, 8, 14, 14] --                   --\n",
              "│    └─Sequential (conv3)                     [16, 528, 8, 14, 14] [16, 128, 8, 14, 14] --                   True\n",
              "│    │    └─Conv3d (0)                        [16, 528, 8, 14, 14] [16, 32, 8, 14, 14]  16,928               True\n",
              "│    │    └─BatchNorm3d (1)                   [16, 32, 8, 14, 14]  [16, 32, 8, 14, 14]  64                   True\n",
              "│    │    └─ReLU (2)                          [16, 32, 8, 14, 14]  [16, 32, 8, 14, 14]  --                   --\n",
              "│    │    └─SepConv (3)                       [16, 32, 8, 14, 14]  [16, 128, 8, 14, 14] 86,528               True\n",
              "│    │    └─BatchNorm3d (4)                   [16, 128, 8, 14, 14] [16, 128, 8, 14, 14] 256                  True\n",
              "│    │    └─ReLU (5)                          [16, 128, 8, 14, 14] [16, 128, 8, 14, 14] --                   --\n",
              "│    └─Sequential (pool_proj)                 [16, 528, 8, 14, 14] [16, 128, 8, 14, 14] --                   True\n",
              "│    │    └─MaxPool3d (0)                     [16, 528, 8, 14, 14] [16, 528, 8, 14, 14] --                   --\n",
              "│    │    └─Conv3d (1)                        [16, 528, 8, 14, 14] [16, 128, 8, 14, 14] 67,712               True\n",
              "│    │    └─BatchNorm3d (2)                   [16, 128, 8, 14, 14] [16, 128, 8, 14, 14] 256                  True\n",
              "│    │    └─ReLU (3)                          [16, 128, 8, 14, 14] [16, 128, 8, 14, 14] --                   --\n",
              "├─MaxPool3d (maxpool4)                        [16, 832, 8, 14, 14] [16, 832, 4, 7, 7]   --                   --\n",
              "├─SepInception (inc5a)                        [16, 832, 4, 7, 7]   [16, 832, 4, 7, 7]   --                   True\n",
              "│    └─Sequential (conv1)                     [16, 832, 4, 7, 7]   [16, 256, 4, 7, 7]   --                   True\n",
              "│    │    └─Conv3d (0)                        [16, 832, 4, 7, 7]   [16, 256, 4, 7, 7]   213,248              True\n",
              "│    │    └─BatchNorm3d (1)                   [16, 256, 4, 7, 7]   [16, 256, 4, 7, 7]   512                  True\n",
              "│    │    └─ReLU (2)                          [16, 256, 4, 7, 7]   [16, 256, 4, 7, 7]   --                   --\n",
              "│    └─Sequential (conv2)                     [16, 832, 4, 7, 7]   [16, 320, 4, 7, 7]   --                   True\n",
              "│    │    └─Conv3d (0)                        [16, 832, 4, 7, 7]   [16, 160, 4, 7, 7]   133,280              True\n",
              "│    │    └─BatchNorm3d (1)                   [16, 160, 4, 7, 7]   [16, 160, 4, 7, 7]   320                  True\n",
              "│    │    └─ReLU (2)                          [16, 160, 4, 7, 7]   [16, 160, 4, 7, 7]   --                   --\n",
              "│    │    └─SepConv (3)                       [16, 160, 4, 7, 7]   [16, 320, 4, 7, 7]   769,280              True\n",
              "│    │    └─BatchNorm3d (4)                   [16, 320, 4, 7, 7]   [16, 320, 4, 7, 7]   640                  True\n",
              "│    │    └─ReLU (5)                          [16, 320, 4, 7, 7]   [16, 320, 4, 7, 7]   --                   --\n",
              "│    └─Sequential (conv3)                     [16, 832, 4, 7, 7]   [16, 128, 4, 7, 7]   --                   True\n",
              "│    │    └─Conv3d (0)                        [16, 832, 4, 7, 7]   [16, 32, 4, 7, 7]    26,656               True\n",
              "│    │    └─BatchNorm3d (1)                   [16, 32, 4, 7, 7]    [16, 32, 4, 7, 7]    64                   True\n",
              "│    │    └─ReLU (2)                          [16, 32, 4, 7, 7]    [16, 32, 4, 7, 7]    --                   --\n",
              "│    │    └─SepConv (3)                       [16, 32, 4, 7, 7]    [16, 128, 4, 7, 7]   86,528               True\n",
              "│    │    └─BatchNorm3d (4)                   [16, 128, 4, 7, 7]   [16, 128, 4, 7, 7]   256                  True\n",
              "│    │    └─ReLU (5)                          [16, 128, 4, 7, 7]   [16, 128, 4, 7, 7]   --                   --\n",
              "│    └─Sequential (pool_proj)                 [16, 832, 4, 7, 7]   [16, 128, 4, 7, 7]   --                   True\n",
              "│    │    └─MaxPool3d (0)                     [16, 832, 4, 7, 7]   [16, 832, 4, 7, 7]   --                   --\n",
              "│    │    └─Conv3d (1)                        [16, 832, 4, 7, 7]   [16, 128, 4, 7, 7]   106,624              True\n",
              "│    │    └─BatchNorm3d (2)                   [16, 128, 4, 7, 7]   [16, 128, 4, 7, 7]   256                  True\n",
              "│    │    └─ReLU (3)                          [16, 128, 4, 7, 7]   [16, 128, 4, 7, 7]   --                   --\n",
              "├─SepInception (inc5b)                        [16, 832, 4, 7, 7]   [16, 1024, 4, 7, 7]  --                   True\n",
              "│    └─Sequential (conv1)                     [16, 832, 4, 7, 7]   [16, 384, 4, 7, 7]   --                   True\n",
              "│    │    └─Conv3d (0)                        [16, 832, 4, 7, 7]   [16, 384, 4, 7, 7]   319,872              True\n",
              "│    │    └─BatchNorm3d (1)                   [16, 384, 4, 7, 7]   [16, 384, 4, 7, 7]   768                  True\n",
              "│    │    └─ReLU (2)                          [16, 384, 4, 7, 7]   [16, 384, 4, 7, 7]   --                   --\n",
              "│    └─Sequential (conv2)                     [16, 832, 4, 7, 7]   [16, 384, 4, 7, 7]   --                   True\n",
              "│    │    └─Conv3d (0)                        [16, 832, 4, 7, 7]   [16, 192, 4, 7, 7]   159,936              True\n",
              "│    │    └─BatchNorm3d (1)                   [16, 192, 4, 7, 7]   [16, 192, 4, 7, 7]   384                  True\n",
              "│    │    └─ReLU (2)                          [16, 192, 4, 7, 7]   [16, 192, 4, 7, 7]   --                   --\n",
              "│    │    └─SepConv (3)                       [16, 192, 4, 7, 7]   [16, 384, 4, 7, 7]   1,107,456            True\n",
              "│    │    └─BatchNorm3d (4)                   [16, 384, 4, 7, 7]   [16, 384, 4, 7, 7]   768                  True\n",
              "│    │    └─ReLU (5)                          [16, 384, 4, 7, 7]   [16, 384, 4, 7, 7]   --                   --\n",
              "│    └─Sequential (conv3)                     [16, 832, 4, 7, 7]   [16, 128, 4, 7, 7]   --                   True\n",
              "│    │    └─Conv3d (0)                        [16, 832, 4, 7, 7]   [16, 48, 4, 7, 7]    39,984               True\n",
              "│    │    └─BatchNorm3d (1)                   [16, 48, 4, 7, 7]    [16, 48, 4, 7, 7]    96                   True\n",
              "│    │    └─ReLU (2)                          [16, 48, 4, 7, 7]    [16, 48, 4, 7, 7]    --                   --\n",
              "│    │    └─SepConv (3)                       [16, 48, 4, 7, 7]    [16, 128, 4, 7, 7]   104,960              True\n",
              "│    │    └─BatchNorm3d (4)                   [16, 128, 4, 7, 7]   [16, 128, 4, 7, 7]   256                  True\n",
              "│    │    └─ReLU (5)                          [16, 128, 4, 7, 7]   [16, 128, 4, 7, 7]   --                   --\n",
              "│    └─Sequential (pool_proj)                 [16, 832, 4, 7, 7]   [16, 128, 4, 7, 7]   --                   True\n",
              "│    │    └─MaxPool3d (0)                     [16, 832, 4, 7, 7]   [16, 832, 4, 7, 7]   --                   --\n",
              "│    │    └─Conv3d (1)                        [16, 832, 4, 7, 7]   [16, 128, 4, 7, 7]   106,624              True\n",
              "│    │    └─BatchNorm3d (2)                   [16, 128, 4, 7, 7]   [16, 128, 4, 7, 7]   256                  True\n",
              "│    │    └─ReLU (3)                          [16, 128, 4, 7, 7]   [16, 128, 4, 7, 7]   --                   --\n",
              "├─AvgPool3d (avgpool)                         [16, 1024, 4, 7, 7]  [16, 1024, 3, 1, 1]  --                   --\n",
              "├─Conv3d (conv4)                              [16, 1024, 3, 1, 1]  [16, 3, 3, 1, 1]     3,075                True\n",
              "=============================================================================================================================\n",
              "Total params: 7,923,731\n",
              "Trainable params: 7,923,731\n",
              "Non-trainable params: 0\n",
              "Total mult-adds (G): 576.72\n",
              "=============================================================================================================================\n",
              "Input size (MB): 308.28\n",
              "Forward/backward pass size (MB): 22596.86\n",
              "Params size (MB): 31.69\n",
              "Estimated Total Size (MB): 22936.84\n",
              "============================================================================================================================="
            ]
          },
          "metadata": {},
          "execution_count": 9
        }
      ]
    }
  ]
}