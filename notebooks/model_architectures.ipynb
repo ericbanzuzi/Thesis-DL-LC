{
  "nbformat": 4,
  "nbformat_minor": 0,
  "metadata": {
    "colab": {
      "provenance": [],
      "machine_shape": "hm",
      "authorship_tag": "ABX9TyNnOF3gn3UnHvo5u0KPstxC",
      "include_colab_link": true
    },
    "kernelspec": {
      "name": "python3",
      "display_name": "Python 3"
    },
    "language_info": {
      "name": "python"
    },
    "gpuClass": "standard"
  },
  "cells": [
    {
      "cell_type": "markdown",
      "metadata": {
        "id": "view-in-github",
        "colab_type": "text"
      },
      "source": [
        "<a href=\"https://colab.research.google.com/github/ericbanzuzi/Thesis-DL-LC/blob/main/notebooks/model_architectures.ipynb\" target=\"_parent\"><img src=\"https://colab.research.google.com/assets/colab-badge.svg\" alt=\"Open In Colab\"/></a>"
      ]
    },
    {
      "cell_type": "code",
      "execution_count": 1,
      "metadata": {
        "colab": {
          "base_uri": "https://localhost:8080/"
        },
        "id": "CaRAGkQRGGn2",
        "outputId": "31e49512-3d15-44b0-8d9f-634e7f4eca8e"
      },
      "outputs": [
        {
          "output_type": "stream",
          "name": "stdout",
          "text": [
            "Mounted at /content/drive\n"
          ]
        }
      ],
      "source": [
        "from google.colab import drive\n",
        "from pathlib import Path\n",
        "\n",
        "drive.mount('/content/drive', force_remount=True)\n",
        "base = Path('/content/drive/MyDrive/thesis')  # working directory "
      ]
    },
    {
      "cell_type": "markdown",
      "source": [
        "Get the git repo to colab through a zip file to get faster performance"
      ],
      "metadata": {
        "id": "1mOLcuJaxfF1"
      }
    },
    {
      "cell_type": "code",
      "source": [
        "zip_path = base/'Thesis-DL-LC-main.zip'\n",
        "!cp '{zip_path}' .\n",
        "!unzip -q Thesis-DL-LC-main.zip\n",
        "!rm Thesis-DL-LC-main.zip"
      ],
      "metadata": {
        "id": "LIZavPsTxSp2"
      },
      "execution_count": 2,
      "outputs": []
    },
    {
      "cell_type": "code",
      "source": [
        "%cd '/content/Thesis-DL-LC-main'"
      ],
      "metadata": {
        "colab": {
          "base_uri": "https://localhost:8080/"
        },
        "id": "V9CILG6vxWjf",
        "outputId": "01c870e2-cd87-4775-e898-bef0302f1dbf"
      },
      "execution_count": 3,
      "outputs": [
        {
          "output_type": "stream",
          "name": "stdout",
          "text": [
            "/content/Thesis-DL-LC-main\n"
          ]
        }
      ]
    },
    {
      "cell_type": "code",
      "source": [
        "# imports\n",
        "!pip install torchinfo\n",
        "from torchinfo import summary\n",
        "from models.models import R2Plus1D, MC4, ViViT"
      ],
      "metadata": {
        "colab": {
          "base_uri": "https://localhost:8080/"
        },
        "id": "7nNI8NljxjjJ",
        "outputId": "ccba79f0-703e-4c38-9890-4971d1897467"
      },
      "execution_count": 4,
      "outputs": [
        {
          "output_type": "stream",
          "name": "stdout",
          "text": [
            "Looking in indexes: https://pypi.org/simple, https://us-python.pkg.dev/colab-wheels/public/simple/\n",
            "Collecting torchinfo\n",
            "  Downloading torchinfo-1.7.2-py3-none-any.whl (22 kB)\n",
            "Installing collected packages: torchinfo\n",
            "Successfully installed torchinfo-1.7.2\n"
          ]
        }
      ]
    },
    {
      "cell_type": "code",
      "source": [
        "# This project's video inputs\n",
        "BATCH = 16\n",
        "HEIGHT = 112\n",
        "WIDTH = 112\n",
        "FRAMES = 32"
      ],
      "metadata": {
        "id": "3BEl9BJWyj50"
      },
      "execution_count": 5,
      "outputs": []
    },
    {
      "cell_type": "markdown",
      "source": [
        "## **R2Plus1D:**"
      ],
      "metadata": {
        "id": "Qsayq3Klx4u6"
      }
    },
    {
      "cell_type": "code",
      "source": [
        "r2plus1d = R2Plus1D(num_classes=3)\n",
        "summary(model=r2plus1d,\n",
        "        input_size=(BATCH, 3, FRAMES, HEIGHT, WIDTH), # (batch_size, color_channels, frames, height, width)\n",
        "        col_names=[\"input_size\", \"output_size\", \"num_params\", \"trainable\"],\n",
        "        col_width=20,\n",
        "        row_settings=[\"var_names\"]\n",
        ")"
      ],
      "metadata": {
        "colab": {
          "base_uri": "https://localhost:8080/"
        },
        "id": "L7qvspajx_ng",
        "outputId": "a08a6b7e-eafc-4c31-bebd-6c3f9117a7b2"
      },
      "execution_count": 6,
      "outputs": [
        {
          "output_type": "stream",
          "name": "stderr",
          "text": [
            "/usr/local/lib/python3.9/dist-packages/torchinfo/torchinfo.py:477: UserWarning: TypedStorage is deprecated. It will be removed in the future and UntypedStorage will be the only storage class. This should only matter to you if you are using storages directly.  To access UntypedStorage directly, use tensor.untyped_storage() instead of tensor.storage()\n",
            "  action_fn=lambda data: sys.getsizeof(data.storage()),\n",
            "/usr/local/lib/python3.9/dist-packages/torch/storage.py:665: UserWarning: TypedStorage is deprecated. It will be removed in the future and UntypedStorage will be the only storage class. This should only matter to you if you are using storages directly.  To access UntypedStorage directly, use tensor.untyped_storage() instead of tensor.storage()\n",
            "  return super().__sizeof__() + self.nbytes()\n"
          ]
        },
        {
          "output_type": "execute_result",
          "data": {
            "text/plain": [
              "=============================================================================================================================\n",
              "Layer (type (var_name))                       Input Shape          Output Shape         Param #              Trainable\n",
              "=============================================================================================================================\n",
              "R2Plus1D (R2Plus1D)                           [16, 3, 32, 112, 112] [16, 3]              --                   True\n",
              "├─Conv2Plus1DFirst (conv1)                    [16, 3, 32, 112, 112] [16, 64, 32, 56, 56] --                   True\n",
              "│    └─Conv3d (0)                             [16, 3, 32, 112, 112] [16, 45, 32, 56, 56] 6,660                True\n",
              "│    └─BatchNorm3d (1)                        [16, 45, 32, 56, 56] [16, 45, 32, 56, 56] 90                   True\n",
              "│    └─ReLU (2)                               [16, 45, 32, 56, 56] [16, 45, 32, 56, 56] --                   --\n",
              "│    └─Conv3d (3)                             [16, 45, 32, 56, 56] [16, 64, 32, 56, 56] 8,704                True\n",
              "│    └─BatchNorm3d (4)                        [16, 64, 32, 56, 56] [16, 64, 32, 56, 56] 128                  True\n",
              "├─ReLU (relu1)                                [16, 64, 32, 56, 56] [16, 64, 32, 56, 56] --                   --\n",
              "├─Conv2Plus1DResidualBlock (conv2_1)          [16, 64, 32, 56, 56] [16, 64, 32, 56, 56] --                   True\n",
              "│    └─Sequential (seq)                       [16, 64, 32, 56, 56] [16, 64, 32, 56, 56] --                   True\n",
              "│    │    └─Conv2Plus1D (0)                   [16, 64, 32, 56, 56] [16, 64, 32, 56, 56] 111,088              True\n",
              "│    │    └─BatchNorm3d (1)                   [16, 64, 32, 56, 56] [16, 64, 32, 56, 56] 128                  True\n",
              "│    │    └─ReLU (2)                          [16, 64, 32, 56, 56] [16, 64, 32, 56, 56] --                   --\n",
              "│    │    └─Conv2Plus1D (3)                   [16, 64, 32, 56, 56] [16, 64, 32, 56, 56] 111,088              True\n",
              "│    │    └─BatchNorm3d (4)                   [16, 64, 32, 56, 56] [16, 64, 32, 56, 56] 128                  True\n",
              "├─ReLU (relu2_1)                              [16, 64, 32, 56, 56] [16, 64, 32, 56, 56] --                   --\n",
              "├─Conv2Plus1DResidualBlock (conv2_2)          [16, 64, 32, 56, 56] [16, 64, 32, 56, 56] --                   True\n",
              "│    └─Sequential (seq)                       [16, 64, 32, 56, 56] [16, 64, 32, 56, 56] --                   True\n",
              "│    │    └─Conv2Plus1D (0)                   [16, 64, 32, 56, 56] [16, 64, 32, 56, 56] 111,088              True\n",
              "│    │    └─BatchNorm3d (1)                   [16, 64, 32, 56, 56] [16, 64, 32, 56, 56] 128                  True\n",
              "│    │    └─ReLU (2)                          [16, 64, 32, 56, 56] [16, 64, 32, 56, 56] --                   --\n",
              "│    │    └─Conv2Plus1D (3)                   [16, 64, 32, 56, 56] [16, 64, 32, 56, 56] 111,088              True\n",
              "│    │    └─BatchNorm3d (4)                   [16, 64, 32, 56, 56] [16, 64, 32, 56, 56] 128                  True\n",
              "├─ReLU (relu2_2)                              [16, 64, 32, 56, 56] [16, 64, 32, 56, 56] --                   --\n",
              "├─Conv2Plus1DResidualBlock (conv3_1)          [16, 64, 32, 56, 56] [16, 128, 16, 28, 28] --                   True\n",
              "│    └─Sequential (seq)                       [16, 64, 32, 56, 56] [16, 128, 16, 28, 28] --                   True\n",
              "│    │    └─Conv2Plus1D (0)                   [16, 64, 32, 56, 56] [16, 128, 16, 28, 28] 221,618              True\n",
              "│    │    └─BatchNorm3d (1)                   [16, 128, 16, 28, 28] [16, 128, 16, 28, 28] 256                  True\n",
              "│    │    └─ReLU (2)                          [16, 128, 16, 28, 28] [16, 128, 16, 28, 28] --                   --\n",
              "│    │    └─Conv2Plus1D (3)                   [16, 128, 16, 28, 28] [16, 128, 16, 28, 28] 443,360              True\n",
              "│    │    └─BatchNorm3d (4)                   [16, 128, 16, 28, 28] [16, 128, 16, 28, 28] 256                  True\n",
              "│    └─Sequential (downsample)                [16, 64, 32, 56, 56] [16, 128, 16, 28, 28] --                   True\n",
              "│    │    └─Conv3d (0)                        [16, 64, 32, 56, 56] [16, 128, 16, 28, 28] 8,320                True\n",
              "│    │    └─BatchNorm3d (1)                   [16, 128, 16, 28, 28] [16, 128, 16, 28, 28] 256                  True\n",
              "├─ReLU (relu3_1)                              [16, 128, 16, 28, 28] [16, 128, 16, 28, 28] --                   --\n",
              "├─Conv2Plus1DResidualBlock (conv3_2)          [16, 128, 16, 28, 28] [16, 128, 16, 28, 28] --                   True\n",
              "│    └─Sequential (seq)                       [16, 128, 16, 28, 28] [16, 128, 16, 28, 28] --                   True\n",
              "│    │    └─Conv2Plus1D (0)                   [16, 128, 16, 28, 28] [16, 128, 16, 28, 28] 443,360              True\n",
              "│    │    └─BatchNorm3d (1)                   [16, 128, 16, 28, 28] [16, 128, 16, 28, 28] 256                  True\n",
              "│    │    └─ReLU (2)                          [16, 128, 16, 28, 28] [16, 128, 16, 28, 28] --                   --\n",
              "│    │    └─Conv2Plus1D (3)                   [16, 128, 16, 28, 28] [16, 128, 16, 28, 28] 443,360              True\n",
              "│    │    └─BatchNorm3d (4)                   [16, 128, 16, 28, 28] [16, 128, 16, 28, 28] 256                  True\n",
              "├─ReLU (relu3_2)                              [16, 128, 16, 28, 28] [16, 128, 16, 28, 28] --                   --\n",
              "├─Conv2Plus1DResidualBlock (conv4_1)          [16, 128, 16, 28, 28] [16, 256, 8, 14, 14] --                   True\n",
              "│    └─Sequential (seq)                       [16, 128, 16, 28, 28] [16, 256, 8, 14, 14] --                   True\n",
              "│    │    └─Conv2Plus1D (0)                   [16, 128, 16, 28, 28] [16, 256, 8, 14, 14] 884,836              True\n",
              "│    │    └─BatchNorm3d (1)                   [16, 256, 8, 14, 14] [16, 256, 8, 14, 14] 512                  True\n",
              "│    │    └─ReLU (2)                          [16, 256, 8, 14, 14] [16, 256, 8, 14, 14] --                   --\n",
              "│    │    └─Conv2Plus1D (3)                   [16, 256, 8, 14, 14] [16, 256, 8, 14, 14] 1,771,456            True\n",
              "│    │    └─BatchNorm3d (4)                   [16, 256, 8, 14, 14] [16, 256, 8, 14, 14] 512                  True\n",
              "│    └─Sequential (downsample)                [16, 128, 16, 28, 28] [16, 256, 8, 14, 14] --                   True\n",
              "│    │    └─Conv3d (0)                        [16, 128, 16, 28, 28] [16, 256, 8, 14, 14] 33,024               True\n",
              "│    │    └─BatchNorm3d (1)                   [16, 256, 8, 14, 14] [16, 256, 8, 14, 14] 512                  True\n",
              "├─ReLU (relu4_1)                              [16, 256, 8, 14, 14] [16, 256, 8, 14, 14] --                   --\n",
              "├─Conv2Plus1DResidualBlock (conv4_2)          [16, 256, 8, 14, 14] [16, 256, 8, 14, 14] --                   True\n",
              "│    └─Sequential (seq)                       [16, 256, 8, 14, 14] [16, 256, 8, 14, 14] --                   True\n",
              "│    │    └─Conv2Plus1D (0)                   [16, 256, 8, 14, 14] [16, 256, 8, 14, 14] 1,771,456            True\n",
              "│    │    └─BatchNorm3d (1)                   [16, 256, 8, 14, 14] [16, 256, 8, 14, 14] 512                  True\n",
              "│    │    └─ReLU (2)                          [16, 256, 8, 14, 14] [16, 256, 8, 14, 14] --                   --\n",
              "│    │    └─Conv2Plus1D (3)                   [16, 256, 8, 14, 14] [16, 256, 8, 14, 14] 1,771,456            True\n",
              "│    │    └─BatchNorm3d (4)                   [16, 256, 8, 14, 14] [16, 256, 8, 14, 14] 512                  True\n",
              "├─ReLU (relu4_2)                              [16, 256, 8, 14, 14] [16, 256, 8, 14, 14] --                   --\n",
              "├─Conv2Plus1DResidualBlock (conv5_1)          [16, 256, 8, 14, 14] [16, 512, 4, 7, 7]   --                   True\n",
              "│    └─Sequential (seq)                       [16, 256, 8, 14, 14] [16, 512, 4, 7, 7]   --                   True\n",
              "│    │    └─Conv2Plus1D (0)                   [16, 256, 8, 14, 14] [16, 512, 4, 7, 7]   3,539,915            True\n",
              "│    │    └─BatchNorm3d (1)                   [16, 512, 4, 7, 7]   [16, 512, 4, 7, 7]   1,024                True\n",
              "│    │    └─ReLU (2)                          [16, 512, 4, 7, 7]   [16, 512, 4, 7, 7]   --                   --\n",
              "│    │    └─Conv2Plus1D (3)                   [16, 512, 4, 7, 7]   [16, 512, 4, 7, 7]   7,081,856            True\n",
              "│    │    └─BatchNorm3d (4)                   [16, 512, 4, 7, 7]   [16, 512, 4, 7, 7]   1,024                True\n",
              "│    └─Sequential (downsample)                [16, 256, 8, 14, 14] [16, 512, 4, 7, 7]   --                   True\n",
              "│    │    └─Conv3d (0)                        [16, 256, 8, 14, 14] [16, 512, 4, 7, 7]   131,584              True\n",
              "│    │    └─BatchNorm3d (1)                   [16, 512, 4, 7, 7]   [16, 512, 4, 7, 7]   1,024                True\n",
              "├─ReLU (relu5_1)                              [16, 512, 4, 7, 7]   [16, 512, 4, 7, 7]   --                   --\n",
              "├─Conv2Plus1DResidualBlock (conv5_2)          [16, 512, 4, 7, 7]   [16, 512, 4, 7, 7]   --                   True\n",
              "│    └─Sequential (seq)                       [16, 512, 4, 7, 7]   [16, 512, 4, 7, 7]   --                   True\n",
              "│    │    └─Conv2Plus1D (0)                   [16, 512, 4, 7, 7]   [16, 512, 4, 7, 7]   7,081,856            True\n",
              "│    │    └─BatchNorm3d (1)                   [16, 512, 4, 7, 7]   [16, 512, 4, 7, 7]   1,024                True\n",
              "│    │    └─ReLU (2)                          [16, 512, 4, 7, 7]   [16, 512, 4, 7, 7]   --                   --\n",
              "│    │    └─Conv2Plus1D (3)                   [16, 512, 4, 7, 7]   [16, 512, 4, 7, 7]   7,081,856            True\n",
              "│    │    └─BatchNorm3d (4)                   [16, 512, 4, 7, 7]   [16, 512, 4, 7, 7]   1,024                True\n",
              "├─ReLU (relu5_2)                              [16, 512, 4, 7, 7]   [16, 512, 4, 7, 7]   --                   --\n",
              "├─AdaptiveAvgPool3d (avgpool)                 [16, 512, 4, 7, 7]   [16, 512, 1, 1, 1]   --                   --\n",
              "├─Linear (fc)                                 [16, 512]            [16, 3]              1,539                True\n",
              "=============================================================================================================================\n",
              "Total params: 33,180,258\n",
              "Trainable params: 33,180,258\n",
              "Non-trainable params: 0\n",
              "Total mult-adds (T): 1.33\n",
              "=============================================================================================================================\n",
              "Input size (MB): 77.07\n",
              "Forward/backward pass size (MB): 32452.33\n",
              "Params size (MB): 132.72\n",
              "Estimated Total Size (MB): 32662.12\n",
              "============================================================================================================================="
            ]
          },
          "metadata": {},
          "execution_count": 6
        }
      ]
    },
    {
      "cell_type": "markdown",
      "source": [
        "## **MC4:**"
      ],
      "metadata": {
        "id": "U8y7ZZ_yzPXN"
      }
    },
    {
      "cell_type": "code",
      "source": [
        "mc4 = MC4(num_classes=3)\n",
        "summary(model=mc4,\n",
        "        input_size=(BATCH, 3, FRAMES, HEIGHT, WIDTH), # (batch_size, color_channels, frames, height, width)\n",
        "        col_names=[\"input_size\", \"output_size\", \"num_params\", \"trainable\"],\n",
        "        col_width=20,\n",
        "        row_settings=[\"var_names\"]\n",
        ")"
      ],
      "metadata": {
        "colab": {
          "base_uri": "https://localhost:8080/"
        },
        "id": "J8H6Bn4-zWFd",
        "outputId": "bea4d6a4-f652-496a-b31d-09b45c82eefe"
      },
      "execution_count": 7,
      "outputs": [
        {
          "output_type": "stream",
          "name": "stderr",
          "text": [
            "/usr/local/lib/python3.9/dist-packages/torchinfo/torchinfo.py:477: UserWarning: TypedStorage is deprecated. It will be removed in the future and UntypedStorage will be the only storage class. This should only matter to you if you are using storages directly.  To access UntypedStorage directly, use tensor.untyped_storage() instead of tensor.storage()\n",
            "  action_fn=lambda data: sys.getsizeof(data.storage()),\n",
            "/usr/local/lib/python3.9/dist-packages/torch/storage.py:665: UserWarning: TypedStorage is deprecated. It will be removed in the future and UntypedStorage will be the only storage class. This should only matter to you if you are using storages directly.  To access UntypedStorage directly, use tensor.untyped_storage() instead of tensor.storage()\n",
            "  return super().__sizeof__() + self.nbytes()\n"
          ]
        },
        {
          "output_type": "execute_result",
          "data": {
            "text/plain": [
              "========================================================================================================================\n",
              "Layer (type (var_name))                  Input Shape          Output Shape         Param #              Trainable\n",
              "========================================================================================================================\n",
              "MC4 (MC4)                                [16, 3, 32, 112, 112] [16, 3]              --                   True\n",
              "├─Sequential (conv1)                     [16, 3, 32, 112, 112] [16, 64, 32, 56, 56] --                   True\n",
              "│    └─Conv3d (0)                        [16, 3, 32, 112, 112] [16, 64, 32, 56, 56] 28,288               True\n",
              "│    └─BatchNorm3d (1)                   [16, 64, 32, 56, 56] [16, 64, 32, 56, 56] 128                  True\n",
              "├─ReLU (relu1)                           [16, 64, 32, 56, 56] [16, 64, 32, 56, 56] --                   --\n",
              "├─Conv3DResidualBlock (conv2_1)          [16, 64, 32, 56, 56] [16, 64, 32, 56, 56] --                   True\n",
              "│    └─Sequential (seq)                  [16, 64, 32, 56, 56] [16, 64, 32, 56, 56] --                   True\n",
              "│    │    └─Conv3d (0)                   [16, 64, 32, 56, 56] [16, 64, 32, 56, 56] 110,656              True\n",
              "│    │    └─BatchNorm3d (1)              [16, 64, 32, 56, 56] [16, 64, 32, 56, 56] 128                  True\n",
              "│    │    └─ReLU (2)                     [16, 64, 32, 56, 56] [16, 64, 32, 56, 56] --                   --\n",
              "│    │    └─Conv3d (3)                   [16, 64, 32, 56, 56] [16, 64, 32, 56, 56] 110,656              True\n",
              "│    │    └─BatchNorm3d (4)              [16, 64, 32, 56, 56] [16, 64, 32, 56, 56] 128                  True\n",
              "├─ReLU (relu2_1)                         [16, 64, 32, 56, 56] [16, 64, 32, 56, 56] --                   --\n",
              "├─Conv3DResidualBlock (conv2_2)          [16, 64, 32, 56, 56] [16, 64, 32, 56, 56] --                   True\n",
              "│    └─Sequential (seq)                  [16, 64, 32, 56, 56] [16, 64, 32, 56, 56] --                   True\n",
              "│    │    └─Conv3d (0)                   [16, 64, 32, 56, 56] [16, 64, 32, 56, 56] 110,656              True\n",
              "│    │    └─BatchNorm3d (1)              [16, 64, 32, 56, 56] [16, 64, 32, 56, 56] 128                  True\n",
              "│    │    └─ReLU (2)                     [16, 64, 32, 56, 56] [16, 64, 32, 56, 56] --                   --\n",
              "│    │    └─Conv3d (3)                   [16, 64, 32, 56, 56] [16, 64, 32, 56, 56] 110,656              True\n",
              "│    │    └─BatchNorm3d (4)              [16, 64, 32, 56, 56] [16, 64, 32, 56, 56] 128                  True\n",
              "├─ReLU (relu2_2)                         [16, 64, 32, 56, 56] [16, 64, 32, 56, 56] --                   --\n",
              "├─Conv3DResidualBlock (conv3_1)          [16, 64, 32, 56, 56] [16, 128, 16, 28, 28] --                   True\n",
              "│    └─Sequential (seq)                  [16, 64, 32, 56, 56] [16, 128, 16, 28, 28] --                   True\n",
              "│    │    └─Conv3d (0)                   [16, 64, 32, 56, 56] [16, 128, 16, 28, 28] 221,312              True\n",
              "│    │    └─BatchNorm3d (1)              [16, 128, 16, 28, 28] [16, 128, 16, 28, 28] 256                  True\n",
              "│    │    └─ReLU (2)                     [16, 128, 16, 28, 28] [16, 128, 16, 28, 28] --                   --\n",
              "│    │    └─Conv3d (3)                   [16, 128, 16, 28, 28] [16, 128, 16, 28, 28] 442,496              True\n",
              "│    │    └─BatchNorm3d (4)              [16, 128, 16, 28, 28] [16, 128, 16, 28, 28] 256                  True\n",
              "│    └─Sequential (downsample)           [16, 64, 32, 56, 56] [16, 128, 16, 28, 28] --                   True\n",
              "│    │    └─Conv3d (0)                   [16, 64, 32, 56, 56] [16, 128, 16, 28, 28] 8,320                True\n",
              "│    │    └─BatchNorm3d (1)              [16, 128, 16, 28, 28] [16, 128, 16, 28, 28] 256                  True\n",
              "├─ReLU (relu3_1)                         [16, 128, 16, 28, 28] [16, 128, 16, 28, 28] --                   --\n",
              "├─Conv3DResidualBlock (conv3_2)          [16, 128, 16, 28, 28] [16, 128, 16, 28, 28] --                   True\n",
              "│    └─Sequential (seq)                  [16, 128, 16, 28, 28] [16, 128, 16, 28, 28] --                   True\n",
              "│    │    └─Conv3d (0)                   [16, 128, 16, 28, 28] [16, 128, 16, 28, 28] 442,496              True\n",
              "│    │    └─BatchNorm3d (1)              [16, 128, 16, 28, 28] [16, 128, 16, 28, 28] 256                  True\n",
              "│    │    └─ReLU (2)                     [16, 128, 16, 28, 28] [16, 128, 16, 28, 28] --                   --\n",
              "│    │    └─Conv3d (3)                   [16, 128, 16, 28, 28] [16, 128, 16, 28, 28] 442,496              True\n",
              "│    │    └─BatchNorm3d (4)              [16, 128, 16, 28, 28] [16, 128, 16, 28, 28] 256                  True\n",
              "├─ReLU (relu3_2)                         [16, 128, 16, 28, 28] [16, 128, 16, 28, 28] --                   --\n",
              "├─Conv2DResidualBlock (conv4_1)          [16, 128, 16, 28, 28] [16, 256, 16, 14, 14] --                   True\n",
              "│    └─Sequential (seq)                  [16, 128, 16, 28, 28] [16, 256, 16, 14, 14] --                   True\n",
              "│    │    └─Conv3d (0)                   [16, 128, 16, 28, 28] [16, 256, 16, 14, 14] 295,168              True\n",
              "│    │    └─BatchNorm3d (1)              [16, 256, 16, 14, 14] [16, 256, 16, 14, 14] 512                  True\n",
              "│    │    └─ReLU (2)                     [16, 256, 16, 14, 14] [16, 256, 16, 14, 14] --                   --\n",
              "│    │    └─Conv3d (3)                   [16, 256, 16, 14, 14] [16, 256, 16, 14, 14] 590,080              True\n",
              "│    │    └─BatchNorm3d (4)              [16, 256, 16, 14, 14] [16, 256, 16, 14, 14] 512                  True\n",
              "│    └─Sequential (downsample)           [16, 128, 16, 28, 28] [16, 256, 16, 14, 14] --                   True\n",
              "│    │    └─Conv3d (0)                   [16, 128, 16, 28, 28] [16, 256, 16, 14, 14] 33,024               True\n",
              "│    │    └─BatchNorm3d (1)              [16, 256, 16, 14, 14] [16, 256, 16, 14, 14] 512                  True\n",
              "├─ReLU (relu4_1)                         [16, 256, 16, 14, 14] [16, 256, 16, 14, 14] --                   --\n",
              "├─Conv2DResidualBlock (conv4_2)          [16, 256, 16, 14, 14] [16, 256, 16, 14, 14] --                   True\n",
              "│    └─Sequential (seq)                  [16, 256, 16, 14, 14] [16, 256, 16, 14, 14] --                   True\n",
              "│    │    └─Conv3d (0)                   [16, 256, 16, 14, 14] [16, 256, 16, 14, 14] 590,080              True\n",
              "│    │    └─BatchNorm3d (1)              [16, 256, 16, 14, 14] [16, 256, 16, 14, 14] 512                  True\n",
              "│    │    └─ReLU (2)                     [16, 256, 16, 14, 14] [16, 256, 16, 14, 14] --                   --\n",
              "│    │    └─Conv3d (3)                   [16, 256, 16, 14, 14] [16, 256, 16, 14, 14] 590,080              True\n",
              "│    │    └─BatchNorm3d (4)              [16, 256, 16, 14, 14] [16, 256, 16, 14, 14] 512                  True\n",
              "├─ReLU (relu4_2)                         [16, 256, 16, 14, 14] [16, 256, 16, 14, 14] --                   --\n",
              "├─Conv2DResidualBlock (conv5_1)          [16, 256, 16, 14, 14] [16, 512, 16, 7, 7]  --                   True\n",
              "│    └─Sequential (seq)                  [16, 256, 16, 14, 14] [16, 512, 16, 7, 7]  --                   True\n",
              "│    │    └─Conv3d (0)                   [16, 256, 16, 14, 14] [16, 512, 16, 7, 7]  1,180,160            True\n",
              "│    │    └─BatchNorm3d (1)              [16, 512, 16, 7, 7]  [16, 512, 16, 7, 7]  1,024                True\n",
              "│    │    └─ReLU (2)                     [16, 512, 16, 7, 7]  [16, 512, 16, 7, 7]  --                   --\n",
              "│    │    └─Conv3d (3)                   [16, 512, 16, 7, 7]  [16, 512, 16, 7, 7]  2,359,808            True\n",
              "│    │    └─BatchNorm3d (4)              [16, 512, 16, 7, 7]  [16, 512, 16, 7, 7]  1,024                True\n",
              "│    └─Sequential (downsample)           [16, 256, 16, 14, 14] [16, 512, 16, 7, 7]  --                   True\n",
              "│    │    └─Conv3d (0)                   [16, 256, 16, 14, 14] [16, 512, 16, 7, 7]  131,584              True\n",
              "│    │    └─BatchNorm3d (1)              [16, 512, 16, 7, 7]  [16, 512, 16, 7, 7]  1,024                True\n",
              "├─ReLU (relu5_1)                         [16, 512, 16, 7, 7]  [16, 512, 16, 7, 7]  --                   --\n",
              "├─Conv2DResidualBlock (conv5_2)          [16, 512, 16, 7, 7]  [16, 512, 16, 7, 7]  --                   True\n",
              "│    └─Sequential (seq)                  [16, 512, 16, 7, 7]  [16, 512, 16, 7, 7]  --                   True\n",
              "│    │    └─Conv3d (0)                   [16, 512, 16, 7, 7]  [16, 512, 16, 7, 7]  2,359,808            True\n",
              "│    │    └─BatchNorm3d (1)              [16, 512, 16, 7, 7]  [16, 512, 16, 7, 7]  1,024                True\n",
              "│    │    └─ReLU (2)                     [16, 512, 16, 7, 7]  [16, 512, 16, 7, 7]  --                   --\n",
              "│    │    └─Conv3d (3)                   [16, 512, 16, 7, 7]  [16, 512, 16, 7, 7]  2,359,808            True\n",
              "│    │    └─BatchNorm3d (4)              [16, 512, 16, 7, 7]  [16, 512, 16, 7, 7]  1,024                True\n",
              "├─ReLU (relu5_2)                         [16, 512, 16, 7, 7]  [16, 512, 16, 7, 7]  --                   --\n",
              "├─AdaptiveAvgPool3d (avgpool)            [16, 512, 16, 7, 7]  [16, 512, 1, 1, 1]   --                   --\n",
              "├─Linear (fc)                            [16, 512]            [16, 3]              1,539                True\n",
              "========================================================================================================================\n",
              "Total params: 12,528,771\n",
              "Trainable params: 12,528,771\n",
              "Non-trainable params: 0\n",
              "Total mult-adds (T): 1.28\n",
              "========================================================================================================================\n",
              "Input size (MB): 77.07\n",
              "Forward/backward pass size (MB): 11817.45\n",
              "Params size (MB): 50.12\n",
              "Estimated Total Size (MB): 11944.64\n",
              "========================================================================================================================"
            ]
          },
          "metadata": {},
          "execution_count": 7
        }
      ]
    },
    {
      "cell_type": "markdown",
      "source": [
        "## **ViViT:**"
      ],
      "metadata": {
        "id": "kEeBijIeznTl"
      }
    },
    {
      "cell_type": "code",
      "source": [
        "vivit = ViViT(num_classes=3)\n",
        "summary(model=vivit,\n",
        "        input_size=(BATCH, 3, FRAMES, HEIGHT, WIDTH), # (batch_size, color_channels, frames, height, width)\n",
        "        col_names=[\"input_size\", \"output_size\", \"num_params\", \"trainable\"],\n",
        "        col_width=20,\n",
        "        row_settings=[\"var_names\"]\n",
        ")"
      ],
      "metadata": {
        "colab": {
          "base_uri": "https://localhost:8080/"
        },
        "id": "E5jZGh-QzreI",
        "outputId": "a96e002c-fbfa-4afa-faf4-34a44b017e21"
      },
      "execution_count": 8,
      "outputs": [
        {
          "output_type": "execute_result",
          "data": {
            "text/plain": [
              "========================================================================================================================\n",
              "Layer (type (var_name))                  Input Shape          Output Shape         Param #              Trainable\n",
              "========================================================================================================================\n",
              "ViViT (ViViT)                            [16, 3, 32, 112, 112] [16, 3]              1,204,992            True\n",
              "├─TubeletEmbedding (patch_embedding)     [16, 3, 32, 112, 112] [16, 3136, 384]      --                   True\n",
              "│    └─Conv3d (patcher)                  [16, 3, 32, 112, 112] [16, 384, 16, 14, 14] 147,840              True\n",
              "│    └─Flatten (flatten)                 [16, 384, 16, 14, 14] [16, 384, 3136]      --                   --\n",
              "├─Dropout (embedding_dropout)            [16, 3137, 384]      [16, 3137, 384]      --                   --\n",
              "├─Sequential (transformer_encoder)       [16, 3137, 384]      [16, 3137, 384]      --                   True\n",
              "│    └─TransformerEncoderLayer (0)       [16, 3137, 384]      [16, 3137, 384]      1,774,464            True\n",
              "│    └─TransformerEncoderLayer (1)       [16, 3137, 384]      [16, 3137, 384]      1,774,464            True\n",
              "│    └─TransformerEncoderLayer (2)       [16, 3137, 384]      [16, 3137, 384]      1,774,464            True\n",
              "│    └─TransformerEncoderLayer (3)       [16, 3137, 384]      [16, 3137, 384]      1,774,464            True\n",
              "│    └─TransformerEncoderLayer (4)       [16, 3137, 384]      [16, 3137, 384]      1,774,464            True\n",
              "│    └─TransformerEncoderLayer (5)       [16, 3137, 384]      [16, 3137, 384]      1,774,464            True\n",
              "│    └─TransformerEncoderLayer (6)       [16, 3137, 384]      [16, 3137, 384]      1,774,464            True\n",
              "│    └─TransformerEncoderLayer (7)       [16, 3137, 384]      [16, 3137, 384]      1,774,464            True\n",
              "│    └─TransformerEncoderLayer (8)       [16, 3137, 384]      [16, 3137, 384]      1,774,464            True\n",
              "│    └─TransformerEncoderLayer (9)       [16, 3137, 384]      [16, 3137, 384]      1,774,464            True\n",
              "│    └─TransformerEncoderLayer (10)      [16, 3137, 384]      [16, 3137, 384]      1,774,464            True\n",
              "│    └─TransformerEncoderLayer (11)      [16, 3137, 384]      [16, 3137, 384]      1,774,464            True\n",
              "├─Sequential (classifier)                [16, 384]            [16, 3]              --                   True\n",
              "│    └─LayerNorm (0)                     [16, 384]            [16, 384]            768                  True\n",
              "│    └─Linear (1)                        [16, 384]            [16, 3]              1,155                True\n",
              "========================================================================================================================\n",
              "Total params: 22,648,323\n",
              "Trainable params: 22,648,323\n",
              "Non-trainable params: 0\n",
              "Total mult-adds (G): 7.42\n",
              "========================================================================================================================\n",
              "Input size (MB): 77.07\n",
              "Forward/backward pass size (MB): 154.19\n",
              "Params size (MB): 0.60\n",
              "Estimated Total Size (MB): 231.86\n",
              "========================================================================================================================"
            ]
          },
          "metadata": {},
          "execution_count": 8
        }
      ]
    }
  ]
}